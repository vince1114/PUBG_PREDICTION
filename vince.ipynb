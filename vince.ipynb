{
 "cells": [
  {
   "cell_type": "code",
   "execution_count": 1,
   "metadata": {},
   "outputs": [],
   "source": [
    "import csv\n",
    "import pandas\n",
    "import matplotlib.pyplot as plt\n",
    "from sklearn.linear_model import LinearRegression\n",
    "from sklearn.linear_model import LogisticRegression\n",
    "from sklearn import linear_model\n",
    "from random import shuffle\n",
    "from sklearn.preprocessing import StandardScaler"
   ]
  },
  {
   "cell_type": "code",
   "execution_count": 2,
   "metadata": {},
   "outputs": [],
   "source": [
    "data_test = pandas.read_csv('test_V2.csv')\n",
    "data_train = pandas.read_csv('train_V2.csv')"
   ]
  },
  {
   "cell_type": "code",
   "execution_count": 3,
   "metadata": {},
   "outputs": [],
   "source": [
    "data_train.drop(2744604, inplace=True)\n",
    "\n",
    "d_test = data_test.to_dict(\"records\")\n",
    "d_train = data_train.to_dict(\"records\")"
   ]
  },
  {
   "cell_type": "code",
   "execution_count": 4,
   "metadata": {},
   "outputs": [],
   "source": [
    "squad_fpp = []\n",
    "duo_fpp = []\n",
    "solo_fpp = []\n",
    "squad = []\n",
    "duo = []\n",
    "solo = []\n",
    "\n",
    "for i in d_train:\n",
    "    if i['matchType'] == 'squad-fpp':\n",
    "        squad_fpp.append(i)\n",
    "    if i['matchType'] == 'duo_fpp':\n",
    "        duo_fpp.append(i)\n",
    "    if i['matchType'] == 'solo_fpp':\n",
    "        solo_fpp.append(i)\n",
    "    if i['matchType'] == 'squad':\n",
    "        squad.append(i)\n",
    "    if i['matchType'] == 'duo':\n",
    "        duo.append(i)\n",
    "    if i['matchType'] == 'solo':\n",
    "        solo.append(i)"
   ]
  },
  {
   "cell_type": "code",
   "execution_count": 5,
   "metadata": {},
   "outputs": [
    {
     "data": {
      "text/plain": [
       "LinearRegression(copy_X=True, fit_intercept=True, n_jobs=1, normalize=False)"
      ]
     },
     "execution_count": 5,
     "metadata": {},
     "output_type": "execute_result"
    }
   ],
   "source": [
    "Y = data_train['winPlacePerc']\n",
    "X = data_train['walkDistance']\n",
    "\n",
    "\n",
    "X = X.values.reshape(len(X),1)\n",
    "Y = Y.values.reshape(len(Y),1)\n",
    " \n",
    "# Split the data into training/testing sets\n",
    "X_train = X[:int(len(X)//2)]\n",
    "X_test = X[int(len(X)//2):]\n",
    " \n",
    "# Split the targets into training/testing sets\n",
    "Y_train = Y[:int(len(Y)//2)]\n",
    "Y_test = Y[int(len(Y)//2):]\n",
    "\n",
    "regr = linear_model.LinearRegression()\n",
    " \n",
    "# Train the model using the training sets\n",
    "regr.fit(X_train, Y_train)\n"
   ]
  },
  {
   "cell_type": "code",
   "execution_count": 6,
   "metadata": {},
   "outputs": [],
   "source": [
    "features = list(data_train.columns.values)\n",
    "remove_list = ('Id', 'groupId', 'matchId', 'numGroups', 'matchType','winPlacePerc')\n",
    "for i in remove_list:\n",
    "    features.remove(i)"
   ]
  },
  {
   "cell_type": "code",
   "execution_count": 7,
   "metadata": {},
   "outputs": [
    {
     "name": "stdout",
     "output_type": "stream",
     "text": [
      "[0, 0, 0.0, 0, 0, 0, 60, 1241, 0, 0, 0.0, 1306, 28, -1, 0, 0.0, 0, 0.0, 0, 0, 244.8, 1, 1466]\n"
     ]
    }
   ],
   "source": [
    "def feature(datum):\n",
    "    feat = []\n",
    "    for i in features:\n",
    "        feat.append(datum[i])\n",
    "    return feat\n",
    "\n",
    "X = [feature(d) for d in d_train]\n",
    "y = data_train['winPlacePerc']\n",
    "\n",
    "print(X[0])\n",
    "\n",
    "X_train = X[:int(len(X)//2)]\n",
    "X_test = X[int(len(X)//2):]\n",
    " \n",
    "# Split the targets into training/testing sets\n",
    "Y_train = Y[:int(len(Y)//2)]\n",
    "Y_test = Y[int(len(Y)//2):]\n",
    "\n",
    "#regr = linear_model.LinearRegression()\n",
    "regr = LinearRegression()\n",
    " \n",
    "# Train the model using the training sets\n",
    "clf =regr.fit(X_train, Y_train)\n",
    "\n"
   ]
  },
  {
   "cell_type": "code",
   "execution_count": 8,
   "metadata": {},
   "outputs": [
    {
     "data": {
      "text/plain": [
       "0.8286183296211167"
      ]
     },
     "execution_count": 8,
     "metadata": {},
     "output_type": "execute_result"
    }
   ],
   "source": [
    "clf.score(X_test, Y_test)"
   ]
  },
  {
   "cell_type": "code",
   "execution_count": 11,
   "metadata": {},
   "outputs": [
    {
     "name": "stdout",
     "output_type": "stream",
     "text": [
      "0.09292127121138143\n"
     ]
    }
   ],
   "source": [
    "from sklearn.metrics import mean_absolute_error\n",
    "y_pred = clf.predict(X_test)\n",
    "mae = mean_absolute_error(Y_test, y_pred)\n",
    "print(mae)"
   ]
  },
  {
   "cell_type": "code",
   "execution_count": null,
   "metadata": {},
   "outputs": [],
   "source": []
  }
 ],
 "metadata": {
  "kernelspec": {
   "display_name": "Python 3",
   "language": "python",
   "name": "python3"
  },
  "language_info": {
   "codemirror_mode": {
    "name": "ipython",
    "version": 3
   },
   "file_extension": ".py",
   "mimetype": "text/x-python",
   "name": "python",
   "nbconvert_exporter": "python",
   "pygments_lexer": "ipython3",
   "version": "3.7.0"
  }
 },
 "nbformat": 4,
 "nbformat_minor": 2
}
