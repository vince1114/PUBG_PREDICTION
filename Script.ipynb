{
 "cells": [
  {
   "cell_type": "code",
   "execution_count": 2,
   "metadata": {},
   "outputs": [],
   "source": [
    "import pandas as pd \n",
    "import numpy as np\n",
    "import matplotlib.pyplot as plt\n",
    "from collections import defaultdict\n",
    "import datetime\n",
    "import random"
   ]
  },
  {
   "cell_type": "code",
   "execution_count": 3,
   "metadata": {},
   "outputs": [],
   "source": [
    "train_df = pd.read_csv(\"train_V2.csv\")\n",
    "train_data = train_df.to_dict(\"records\")"
   ]
  },
  {
   "cell_type": "code",
   "execution_count": 4,
   "metadata": {},
   "outputs": [
    {
     "name": "stdout",
     "output_type": "stream",
     "text": [
      "2018-12-01 20:14:01.323795\n",
      "2018-12-01 20:14:53.742457\n"
     ]
    }
   ],
   "source": [
    "print(datetime.datetime.now())\n",
    "\n",
    "team_data = defaultdict(list)\n",
    "match_data = defaultdict(list)\n",
    "for d in train_data:\n",
    "    matchType = d['matchType']\n",
    "    matchID = d['matchId']\n",
    "    team_data[matchType].append(d)\n",
    "    match_data[matchID].append(d)\n",
    "\n",
    "print(datetime.datetime.now())"
   ]
  },
  {
   "cell_type": "code",
   "execution_count": 5,
   "metadata": {},
   "outputs": [],
   "source": [
    "# Return subset of data with size +/- 100,\n",
    "# starting from index zero\n",
    "def getSubSet(data, ratio, match_data):\n",
    "    cutoff = int( len(data) * ratio )\n",
    "    subset = []\n",
    "    key_set = []\n",
    "    keys = match_data.keys()\n",
    "    random.shuffle(keys) # Randomize match\n",
    "    i = 0\n",
    "    while(len(subset) < cutoff):\n",
    "        key = keys[i]\n",
    "        key_set.append(key)\n",
    "        subset += match_data[key]\n",
    "        i += 1\n",
    "    return {\n",
    "        'subset': subset,\n",
    "        'keys': key_set\n",
    "    }\n"
   ]
  },
  {
   "cell_type": "code",
   "execution_count": 6,
   "metadata": {},
   "outputs": [
    {
     "name": "stdout",
     "output_type": "stream",
     "text": [
      "2018-12-01 20:14:53.907489\n",
      "('sub_match_data ', datetime.datetime(2018, 12, 1, 20, 14, 57, 537547))\n",
      "('train_key', datetime.datetime(2018, 12, 1, 20, 16, 53, 711574))\n",
      "('test_key', datetime.datetime(2018, 12, 1, 20, 16, 56, 157653))\n",
      "('valid_key', datetime.datetime(2018, 12, 1, 20, 16, 56, 311095))\n",
      "1478549\n",
      "{'walkDistance': 1867.0, 'weaponsAcquired': 5, 'numGroups': 29, 'matchDuration': 1971, 'rankPoints': 1500, 'winPoints': 0, 'heals': 6, 'boosts': 1, 'DBNOs': 3, 'swimDistance': 0.0, 'revives': 4, 'vehicleDestroys': 0, 'rideDistance': 1512.0, 'matchType': 'squad', 'winPlacePerc': 0.7857, 'maxPlace': 29, 'longestKill': 68.6, 'kills': 3, 'teamKills': 0, 'matchId': '52b3aa7884493d', 'killPoints': 0, 'assists': 1, 'groupId': '64cd8d62f6dd8b', 'headshotKills': 0, 'killPlace': 7, 'damageDealt': 168.4, 'roadKills': 0, 'killStreaks': 1, 'Id': '45414e95a5cf11'}\n",
      "1482881\n",
      "{'walkDistance': 1325.0, 'weaponsAcquired': 4, 'numGroups': 29, 'matchDuration': 1385, 'rankPoints': -1, 'winPoints': 1474, 'heals': 0, 'boosts': 0, 'DBNOs': 1, 'swimDistance': 0.0, 'revives': 0, 'vehicleDestroys': 0, 'rideDistance': 0.0, 'matchType': 'squad-fpp', 'winPlacePerc': 0.6071, 'maxPlace': 29, 'longestKill': 0.0, 'kills': 0, 'teamKills': 1, 'matchId': 'a6b299b8ab5bcf', 'killPoints': 1182, 'assists': 0, 'groupId': '140dded0ef008f', 'headshotKills': 0, 'killPlace': 53, 'damageDealt': 124.3, 'roadKills': 0, 'killStreaks': 0, 'Id': '6265eba8ffe2ae'}\n",
      "1485536\n",
      "{'walkDistance': 184.8, 'weaponsAcquired': 1, 'numGroups': 27, 'matchDuration': 1841, 'rankPoints': 1480, 'winPoints': 0, 'heals': 0, 'boosts': 0, 'DBNOs': 2, 'swimDistance': 0.0, 'revives': 0, 'vehicleDestroys': 0, 'rideDistance': 0.0, 'matchType': 'squad-fpp', 'winPlacePerc': 0.0, 'maxPlace': 29, 'longestKill': 3.641, 'kills': 2, 'teamKills': 0, 'matchId': '3b173c7cb134b8', 'killPoints': 0, 'assists': 0, 'groupId': '7048e19db98246', 'headshotKills': 0, 'killPlace': 20, 'damageDealt': 200.0, 'roadKills': 0, 'killStreaks': 1, 'Id': '46023e006a56df'}\n",
      "2018-12-01 20:16:56.442082\n"
     ]
    }
   ],
   "source": [
    "print(datetime.datetime.now())\n",
    "\n",
    "overall_ratio = 1\n",
    "\n",
    "sub_dict = getSubSet(train_data, overall_ratio, match_data)\n",
    "sub_data = sub_dict['subset']\n",
    "sub_keys = list( set( sub_dict['keys'] ) )\n",
    "\n",
    "cutoff1 = int( len(sub_keys) / 3 )\n",
    "cutoff2 = int( len(sub_keys) / 3 * 2 )\n",
    "test_key = sub_keys[:cutoff1]\n",
    "train_key = sub_keys[cutoff1:cutoff2]\n",
    "valid_key = sub_keys[cutoff2:]\n",
    "\n",
    "train_set = []\n",
    "test_set = []\n",
    "valid_set = []\n",
    "\n",
    "print(\"sub_match_data \", datetime.datetime.now())\n",
    "sub_match_data = defaultdict(list)\n",
    "for d in sub_data:\n",
    "    matchID = d['matchId']\n",
    "    sub_match_data[matchID].append(d)\n",
    "\n",
    "print(\"train_key\", datetime.datetime.now())\n",
    "for k in train_key:\n",
    "    train_set += sub_match_data[k]\n",
    "\n",
    "print(\"test_key\", datetime.datetime.now())\n",
    "for k in test_key:\n",
    "    test_set += sub_match_data[k]\n",
    "    \n",
    "print(\"valid_key\", datetime.datetime.now())\n",
    "for k in valid_key:\n",
    "    valid_set += sub_match_data[k]\n",
    "\n",
    "print(len(train_set))\n",
    "print(train_set[0])\n",
    "\n",
    "print(len(test_set))\n",
    "print(test_set[0])\n",
    "\n",
    "print(len(valid_set))\n",
    "print(valid_set[0])\n",
    "\n",
    "print(datetime.datetime.now())"
   ]
  },
  {
   "cell_type": "code",
   "execution_count": 7,
   "metadata": {},
   "outputs": [
    {
     "name": "stdout",
     "output_type": "stream",
     "text": [
      "15988\n",
      "15988\n",
      "15989\n",
      "15988\n",
      "15988\n",
      "15988\n"
     ]
    }
   ],
   "source": [
    "train_key_set = set(train_key)\n",
    "test_key_set = set(test_key)\n",
    "valid_key_set = set(valid_key)\n",
    "\n",
    "print(len(train_key))\n",
    "print(len(test_key))\n",
    "print(len(valid_key))\n",
    "\n",
    "print(len(list(train_key_set.intersection(test_key_set))))\n",
    "print(len(list(train_key_set.intersection(valid_key_set))))\n",
    "print(len(list(test_key_set.intersection(valid_key_set))))"
   ]
  },
  {
   "cell_type": "code",
   "execution_count": null,
   "metadata": {},
   "outputs": [],
   "source": []
  }
 ],
 "metadata": {
  "kernelspec": {
   "display_name": "Python 2",
   "language": "python",
   "name": "python2"
  },
  "language_info": {
   "codemirror_mode": {
    "name": "ipython",
    "version": 2
   },
   "file_extension": ".py",
   "mimetype": "text/x-python",
   "name": "python",
   "nbconvert_exporter": "python",
   "pygments_lexer": "ipython2",
   "version": "2.7.15"
  }
 },
 "nbformat": 4,
 "nbformat_minor": 2
}
