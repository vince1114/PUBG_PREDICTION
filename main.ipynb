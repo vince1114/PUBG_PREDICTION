{
 "cells": [
  {
   "cell_type": "code",
   "execution_count": 9,
   "metadata": {},
   "outputs": [],
   "source": [
    "import matplotlib.pyplot as plt\n",
    "import pandas as pd\n",
    "import numpy as np\n",
    "from collections import Counter\n",
    "from collections import defaultdict"
   ]
  },
  {
   "cell_type": "code",
   "execution_count": 2,
   "metadata": {},
   "outputs": [
    {
     "data": {
      "text/html": [
       "<div>\n",
       "<style scoped>\n",
       "    .dataframe tbody tr th:only-of-type {\n",
       "        vertical-align: middle;\n",
       "    }\n",
       "\n",
       "    .dataframe tbody tr th {\n",
       "        vertical-align: top;\n",
       "    }\n",
       "\n",
       "    .dataframe thead th {\n",
       "        text-align: right;\n",
       "    }\n",
       "</style>\n",
       "<table border=\"1\" class=\"dataframe\">\n",
       "  <thead>\n",
       "    <tr style=\"text-align: right;\">\n",
       "      <th></th>\n",
       "      <th>Id</th>\n",
       "      <th>groupId</th>\n",
       "      <th>matchId</th>\n",
       "      <th>assists</th>\n",
       "      <th>boosts</th>\n",
       "      <th>damageDealt</th>\n",
       "      <th>DBNOs</th>\n",
       "      <th>headshotKills</th>\n",
       "      <th>heals</th>\n",
       "      <th>killPlace</th>\n",
       "      <th>...</th>\n",
       "      <th>revives</th>\n",
       "      <th>rideDistance</th>\n",
       "      <th>roadKills</th>\n",
       "      <th>swimDistance</th>\n",
       "      <th>teamKills</th>\n",
       "      <th>vehicleDestroys</th>\n",
       "      <th>walkDistance</th>\n",
       "      <th>weaponsAcquired</th>\n",
       "      <th>winPoints</th>\n",
       "      <th>winPlacePerc</th>\n",
       "    </tr>\n",
       "  </thead>\n",
       "  <tbody>\n",
       "    <tr>\n",
       "      <th>0</th>\n",
       "      <td>7f96b2f878858a</td>\n",
       "      <td>4d4b580de459be</td>\n",
       "      <td>a10357fd1a4a91</td>\n",
       "      <td>0</td>\n",
       "      <td>0</td>\n",
       "      <td>0.00</td>\n",
       "      <td>0</td>\n",
       "      <td>0</td>\n",
       "      <td>0</td>\n",
       "      <td>60</td>\n",
       "      <td>...</td>\n",
       "      <td>0</td>\n",
       "      <td>0.0000</td>\n",
       "      <td>0</td>\n",
       "      <td>0.00</td>\n",
       "      <td>0</td>\n",
       "      <td>0</td>\n",
       "      <td>244.80</td>\n",
       "      <td>1</td>\n",
       "      <td>1466</td>\n",
       "      <td>0.4444</td>\n",
       "    </tr>\n",
       "    <tr>\n",
       "      <th>1</th>\n",
       "      <td>eef90569b9d03c</td>\n",
       "      <td>684d5656442f9e</td>\n",
       "      <td>aeb375fc57110c</td>\n",
       "      <td>0</td>\n",
       "      <td>0</td>\n",
       "      <td>91.47</td>\n",
       "      <td>0</td>\n",
       "      <td>0</td>\n",
       "      <td>0</td>\n",
       "      <td>57</td>\n",
       "      <td>...</td>\n",
       "      <td>0</td>\n",
       "      <td>0.0045</td>\n",
       "      <td>0</td>\n",
       "      <td>11.04</td>\n",
       "      <td>0</td>\n",
       "      <td>0</td>\n",
       "      <td>1434.00</td>\n",
       "      <td>5</td>\n",
       "      <td>0</td>\n",
       "      <td>0.6400</td>\n",
       "    </tr>\n",
       "    <tr>\n",
       "      <th>2</th>\n",
       "      <td>1eaf90ac73de72</td>\n",
       "      <td>6a4a42c3245a74</td>\n",
       "      <td>110163d8bb94ae</td>\n",
       "      <td>1</td>\n",
       "      <td>0</td>\n",
       "      <td>68.00</td>\n",
       "      <td>0</td>\n",
       "      <td>0</td>\n",
       "      <td>0</td>\n",
       "      <td>47</td>\n",
       "      <td>...</td>\n",
       "      <td>0</td>\n",
       "      <td>0.0000</td>\n",
       "      <td>0</td>\n",
       "      <td>0.00</td>\n",
       "      <td>0</td>\n",
       "      <td>0</td>\n",
       "      <td>161.80</td>\n",
       "      <td>2</td>\n",
       "      <td>0</td>\n",
       "      <td>0.7755</td>\n",
       "    </tr>\n",
       "    <tr>\n",
       "      <th>3</th>\n",
       "      <td>4616d365dd2853</td>\n",
       "      <td>a930a9c79cd721</td>\n",
       "      <td>f1f1f4ef412d7e</td>\n",
       "      <td>0</td>\n",
       "      <td>0</td>\n",
       "      <td>32.90</td>\n",
       "      <td>0</td>\n",
       "      <td>0</td>\n",
       "      <td>0</td>\n",
       "      <td>75</td>\n",
       "      <td>...</td>\n",
       "      <td>0</td>\n",
       "      <td>0.0000</td>\n",
       "      <td>0</td>\n",
       "      <td>0.00</td>\n",
       "      <td>0</td>\n",
       "      <td>0</td>\n",
       "      <td>202.70</td>\n",
       "      <td>3</td>\n",
       "      <td>0</td>\n",
       "      <td>0.1667</td>\n",
       "    </tr>\n",
       "    <tr>\n",
       "      <th>4</th>\n",
       "      <td>315c96c26c9aac</td>\n",
       "      <td>de04010b3458dd</td>\n",
       "      <td>6dc8ff871e21e6</td>\n",
       "      <td>0</td>\n",
       "      <td>0</td>\n",
       "      <td>100.00</td>\n",
       "      <td>0</td>\n",
       "      <td>0</td>\n",
       "      <td>0</td>\n",
       "      <td>45</td>\n",
       "      <td>...</td>\n",
       "      <td>0</td>\n",
       "      <td>0.0000</td>\n",
       "      <td>0</td>\n",
       "      <td>0.00</td>\n",
       "      <td>0</td>\n",
       "      <td>0</td>\n",
       "      <td>49.75</td>\n",
       "      <td>2</td>\n",
       "      <td>0</td>\n",
       "      <td>0.1875</td>\n",
       "    </tr>\n",
       "  </tbody>\n",
       "</table>\n",
       "<p>5 rows × 29 columns</p>\n",
       "</div>"
      ],
      "text/plain": [
       "               Id         groupId         matchId  assists  boosts  \\\n",
       "0  7f96b2f878858a  4d4b580de459be  a10357fd1a4a91        0       0   \n",
       "1  eef90569b9d03c  684d5656442f9e  aeb375fc57110c        0       0   \n",
       "2  1eaf90ac73de72  6a4a42c3245a74  110163d8bb94ae        1       0   \n",
       "3  4616d365dd2853  a930a9c79cd721  f1f1f4ef412d7e        0       0   \n",
       "4  315c96c26c9aac  de04010b3458dd  6dc8ff871e21e6        0       0   \n",
       "\n",
       "   damageDealt  DBNOs  headshotKills  heals  killPlace      ...       revives  \\\n",
       "0         0.00      0              0      0         60      ...             0   \n",
       "1        91.47      0              0      0         57      ...             0   \n",
       "2        68.00      0              0      0         47      ...             0   \n",
       "3        32.90      0              0      0         75      ...             0   \n",
       "4       100.00      0              0      0         45      ...             0   \n",
       "\n",
       "   rideDistance  roadKills  swimDistance  teamKills vehicleDestroys  \\\n",
       "0        0.0000          0          0.00          0               0   \n",
       "1        0.0045          0         11.04          0               0   \n",
       "2        0.0000          0          0.00          0               0   \n",
       "3        0.0000          0          0.00          0               0   \n",
       "4        0.0000          0          0.00          0               0   \n",
       "\n",
       "   walkDistance  weaponsAcquired  winPoints  winPlacePerc  \n",
       "0        244.80                1       1466        0.4444  \n",
       "1       1434.00                5          0        0.6400  \n",
       "2        161.80                2          0        0.7755  \n",
       "3        202.70                3          0        0.1667  \n",
       "4         49.75                2          0        0.1875  \n",
       "\n",
       "[5 rows x 29 columns]"
      ]
     },
     "execution_count": 2,
     "metadata": {},
     "output_type": "execute_result"
    }
   ],
   "source": [
    "df_train = pd.read_csv('train_V2.csv', encoding='utf-8')\n",
    "train_data = df_train.to_dict('records')\n",
    "df_train.head(5)"
   ]
  },
  {
   "cell_type": "markdown",
   "metadata": {},
   "source": [
    "## EDA"
   ]
  },
  {
   "cell_type": "markdown",
   "metadata": {},
   "source": [
    "Group data by matchId."
   ]
  },
  {
   "cell_type": "code",
   "execution_count": 3,
   "metadata": {},
   "outputs": [],
   "source": [
    "match_idx_dict = defaultdict(lambda: [])\n",
    "\n",
    "for i in range(len(train_data)):\n",
    "    match_idx_dict[train_data[i]['matchId']].append(i) "
   ]
  },
  {
   "cell_type": "markdown",
   "metadata": {},
   "source": [
    "Match statistics."
   ]
  },
  {
   "cell_type": "code",
   "execution_count": 4,
   "metadata": {},
   "outputs": [
    {
     "data": {
      "text/plain": [
       "[<matplotlib.lines.Line2D at 0x1a0e0ce80>]"
      ]
     },
     "execution_count": 4,
     "metadata": {},
     "output_type": "execute_result"
    },
    {
     "data": {
      "image/png": "[encoded data removed]",
      "text/plain": [
       "<Figure size 432x288 with 1 Axes>"
      ]
     },
     "metadata": {
      "needs_background": "light"
     },
     "output_type": "display_data"
    }
   ],
   "source": [
    "num_players_dict = defaultdict(int)\n",
    "for indices in match_idx_dict.values():\n",
    "    num_players_dict[len(indices)] += 1\n",
    "    \n",
    "plt.plot(num_players_dict.keys(), num_players_dict.values(), 'ro')"
   ]
  },
  {
   "cell_type": "markdown",
   "metadata": {},
   "source": [
    "Take relevant columns to explore."
   ]
  },
  {
   "cell_type": "code",
   "execution_count": 5,
   "metadata": {},
   "outputs": [
    {
     "name": "stdout",
     "output_type": "stream",
     "text": [
      "Index(['Id', 'groupId', 'matchId', 'assists', 'boosts', 'damageDealt', 'DBNOs',\n",
      "       'headshotKills', 'heals', 'killPlace', 'killPoints', 'kills',\n",
      "       'killStreaks', 'longestKill', 'matchDuration', 'matchType', 'maxPlace',\n",
      "       'numGroups', 'rankPoints', 'revives', 'rideDistance', 'roadKills',\n",
      "       'swimDistance', 'teamKills', 'vehicleDestroys', 'walkDistance',\n",
      "       'weaponsAcquired', 'winPoints', 'winPlacePerc'],\n",
      "      dtype='object')\n"
     ]
    }
   ],
   "source": [
    "print(df_train.columns)"
   ]
  },
  {
   "cell_type": "code",
   "execution_count": 6,
   "metadata": {},
   "outputs": [],
   "source": [
    "rel_cols = set(df_train.columns)\n",
    "rel_cols.remove('Id')\n",
    "rel_cols.remove('groupId')\n",
    "rel_cols.remove('matchId')\n",
    "rel_cols.remove('matchType')\n",
    "rel_cols.remove('roadKills')\n",
    "rel_cols.remove('weaponsAcquired')"
   ]
  },
  {
   "cell_type": "code",
   "execution_count": 7,
   "metadata": {},
   "outputs": [],
   "source": [
    "df_train_minimized = pd.DataFrame()\n",
    "for c in rel_cols:\n",
    "    df_train_minimized[c] = df_train[c]"
   ]
  },
  {
   "cell_type": "code",
   "execution_count": 8,
   "metadata": {},
   "outputs": [
    {
     "data": {
      "image/png": "[encoded data removed]",
      "text/plain": [
       "<Figure size 432x288 with 2 Axes>"
      ]
     },
     "metadata": {
      "needs_background": "light"
     },
     "output_type": "display_data"
    }
   ],
   "source": [
    "corr = df_train_minimized.corr()\n",
    "fig = plt.figure()\n",
    "ax = fig.add_subplot(111)\n",
    "cax = ax.matshow(corr,cmap='coolwarm', vmin=-1, vmax=1)\n",
    "fig.colorbar(cax)\n",
    "ticks = np.arange(0, len(df_train_minimized.columns),1)\n",
    "ax.set_xticks(ticks)\n",
    "plt.xticks(rotation=90)\n",
    "ax.set_yticks(ticks)\n",
    "ax.set_xticklabels(df_train_minimized.columns)\n",
    "ax.set_yticklabels(df_train_minimized.columns)\n",
    "plt.show()"
   ]
  },
  {
   "cell_type": "code",
   "execution_count": 9,
   "metadata": {},
   "outputs": [
    {
     "data": {
      "image/png": "[encoded data removed]",
      "text/plain": [
       "<Figure size 432x288 with 1 Axes>"
      ]
     },
     "metadata": {
      "needs_background": "light"
     },
     "output_type": "display_data"
    },
    {
     "data": {
      "image/png": "[encoded data removed]",
      "text/plain": [
       "<Figure size 432x288 with 1 Axes>"
      ]
     },
     "metadata": {
      "needs_background": "light"
     },
     "output_type": "display_data"
    },
    {
     "data": {
      "image/png": "[encoded data removed]",
      "text/plain": [
       "<Figure size 432x288 with 1 Axes>"
      ]
     },
     "metadata": {
      "needs_background": "light"
     },
     "output_type": "display_data"
    },
    {
     "data": {
      "image/png": "[encoded data removed]",
      "text/plain": [
       "<Figure size 432x288 with 1 Axes>"
      ]
     },
     "metadata": {
      "needs_background": "light"
     },
     "output_type": "display_data"
    },
    {
     "data": {
      "image/png": "[encoded data removed]",
      "text/plain": [
       "<Figure size 432x288 with 1 Axes>"
      ]
     },
     "metadata": {
      "needs_background": "light"
     },
     "output_type": "display_data"
    },
    {
     "data": {
      "image/png": "[encoded data removed]",
      "text/plain": [
       "<Figure size 432x288 with 1 Axes>"
      ]
     },
     "metadata": {
      "needs_background": "light"
     },
     "output_type": "display_data"
    },
    {
     "data": {
      "image/png": "[encoded data removed]",
      "text/plain": [
       "<Figure size 432x288 with 1 Axes>"
      ]
     },
     "metadata": {
      "needs_background": "light"
     },
     "output_type": "display_data"
    },
    {
     "data": {
      "image/png": "[encoded data removed]",
      "text/plain": [
       "<Figure size 432x288 with 1 Axes>"
      ]
     },
     "metadata": {
      "needs_background": "light"
     },
     "output_type": "display_data"
    },
    {
     "data": {
      "image/png": "[encoded data removed]",
      "text/plain": [
       "<Figure size 432x288 with 1 Axes>"
      ]
     },
     "metadata": {
      "needs_background": "light"
     },
     "output_type": "display_data"
    },
    {
     "data": {
      "image/png": "[encoded data removed]",
      "text/plain": [
       "<Figure size 432x288 with 1 Axes>"
      ]
     },
     "metadata": {
      "needs_background": "light"
     },
     "output_type": "display_data"
    },
    {
     "data": {
      "image/png": "[encoded data removed]",
      "text/plain": [
       "<Figure size 432x288 with 1 Axes>"
      ]
     },
     "metadata": {
      "needs_background": "light"
     },
     "output_type": "display_data"
    },
    {
     "data": {
      "image/png": "[encoded data removed]",
      "text/plain": [
       "<Figure size 432x288 with 1 Axes>"
      ]
     },
     "metadata": {
      "needs_background": "light"
     },
     "output_type": "display_data"
    },
    {
     "data": {
      "image/png": "[encoded data removed]",
      "text/plain": [
       "<Figure size 432x288 with 1 Axes>"
      ]
     },
     "metadata": {
      "needs_background": "light"
     },
     "output_type": "display_data"
    },
    {
     "data": {
      "image/png": "[encoded data removed]",
      "text/plain": [
       "<Figure size 432x288 with 1 Axes>"
      ]
     },
     "metadata": {
      "needs_background": "light"
     },
     "output_type": "display_data"
    },
    {
     "data": {
      "image/png": "[encoded data removed]",
      "text/plain": [
       "<Figure size 432x288 with 1 Axes>"
      ]
     },
     "metadata": {
      "needs_background": "light"
     },
     "output_type": "display_data"
    },
    {
     "data": {
      "image/png": "[encoded data removed]",
      "text/plain": [
       "<Figure size 432x288 with 1 Axes>"
      ]
     },
     "metadata": {
      "needs_background": "light"
     },
     "output_type": "display_data"
    },
    {
     "data": {
      "image/png": "[encoded data removed]",
      "text/plain": [
       "<Figure size 432x288 with 1 Axes>"
      ]
     },
     "metadata": {
      "needs_background": "light"
     },
     "output_type": "display_data"
    },
    {
     "data": {
      "image/png": "[encoded data removed]",
      "text/plain": [
       "<Figure size 432x288 with 1 Axes>"
      ]
     },
     "metadata": {
      "needs_background": "light"
     },
     "output_type": "display_data"
    },
    {
     "data": {
      "image/png": "[encoded data removed]",
      "text/plain": [
       "<Figure size 432x288 with 1 Axes>"
      ]
     },
     "metadata": {
      "needs_background": "light"
     },
     "output_type": "display_data"
    },
    {
     "data": {
      "image/png": "[encoded data removed]",
      "text/plain": [
       "<Figure size 432x288 with 1 Axes>"
      ]
     },
     "metadata": {
      "needs_background": "light"
     },
     "output_type": "display_data"
    },
    {
     "data": {
      "image/png": "[encoded data removed]",
      "text/plain": [
       "<Figure size 432x288 with 1 Axes>"
      ]
     },
     "metadata": {
      "needs_background": "light"
     },
     "output_type": "display_data"
    },
    {
     "data": {
      "image/png": "[encoded data removed]",
      "text/plain": [
       "<Figure size 432x288 with 1 Axes>"
      ]
     },
     "metadata": {
      "needs_background": "light"
     },
     "output_type": "display_data"
    },
    {
     "data": {
      "image/png": "[encoded data removed]",
      "text/plain": [
       "<Figure size 432x288 with 1 Axes>"
      ]
     },
     "metadata": {
      "needs_background": "light"
     },
     "output_type": "display_data"
    }
   ],
   "source": [
    "for c in rel_cols:\n",
    "    df_train[c].hist()\n",
    "    plt.title(c)\n",
    "    plt.show()"
   ]
  },
  {
   "cell_type": "markdown",
   "metadata": {},
   "source": [
    "Reduce range of x values so we can look at the data in more details."
   ]
  },
  {
   "cell_type": "code",
   "execution_count": 10,
   "metadata": {},
   "outputs": [],
   "source": [
    "df_train_set = pd.read_csv('train_set.csv', encoding='utf-8')\n",
    "train_set = df_train_set.to_dict('records')\n",
    "\n",
    "df_test_set = pd.read_csv('test_set.csv', encoding='utf-8')\n",
    "test_set = df_test_set.to_dict('records')\n",
    "\n",
    "df_valid_set = pd.read_csv('valid_set.csv', encoding='utf-8')\n",
    "valid_set = df_valid_set.to_dict('records')"
   ]
  },
  {
   "cell_type": "code",
   "execution_count": 11,
   "metadata": {},
   "outputs": [],
   "source": [
    "def fill_missing(data_set):\n",
    "    for i in range(len(data_set)):\n",
    "        if (np.isnan(data_set[i]['winPlacePerc'])):\n",
    "            data_set[i]['winPlacePerc'] = 0\n",
    "            \n",
    "fill_missing(train_set)\n",
    "fill_missing(test_set)\n",
    "fill_missing(valid_set)"
   ]
  },
  {
   "cell_type": "code",
   "execution_count": 66,
   "metadata": {},
   "outputs": [],
   "source": [
    "rel_cols = set(train_set[0].keys()) # Get columns\n",
    "rel_cols.remove('Id')\n",
    "rel_cols.remove('groupId')\n",
    "rel_cols.remove('matchId')\n",
    "#rel_cols.remove('matchType')\n",
    "rel_cols.remove('roadKills')\n",
    "rel_cols.remove('weaponsAcquired')\n",
    "rel_cols.remove('winPlacePerc')\n",
    "rel_cols.remove('Unnamed: 0')"
   ]
  },
  {
   "cell_type": "code",
   "execution_count": 78,
   "metadata": {},
   "outputs": [],
   "source": [
    "matchTypes = ['solo', 'duo', 'squad', 'solo-fpp', 'duo-fpp', 'squad-fpp']\n",
    "matchTypeID = defaultdict(int)\n",
    "for i in range(len(matchTypes)):\n",
    "    matchTypeID[matchTypes[i]] = i\n",
    "\n",
    "def feature(datum):\n",
    "    feature = []\n",
    "    for c in rel_cols:\n",
    "        if (c == 'matchType'):\n",
    "            feature.append(matchTypeID[datum[c]])\n",
    "        else:\n",
    "            feature.append(datum[c])\n",
    "    return feature\n",
    "\n",
    "X_train = [feature(d) for d in train_set]\n",
    "y_train = [d['winPlacePerc'] for d in train_set]\n",
    "\n",
    "X_test = [feature(d) for d in test_set]\n",
    "y_test = [d['winPlacePerc'] for d in test_set]\n",
    "\n",
    "X_valid = [feature(d) for d in valid_set]\n",
    "y_valid = [d['winPlacePerc'] for d in valid_set]"
   ]
  },
  {
   "cell_type": "markdown",
   "metadata": {},
   "source": [
    "## Linear Regression"
   ]
  },
  {
   "cell_type": "code",
   "execution_count": 56,
   "metadata": {},
   "outputs": [],
   "source": [
    "from sklearn.linear_model import LinearRegression\n",
    "from sklearn.metrics import mean_absolute_error"
   ]
  },
  {
   "cell_type": "code",
   "execution_count": 79,
   "metadata": {},
   "outputs": [
    {
     "name": "stdout",
     "output_type": "stream",
     "text": [
      "('MAE: ', 0.09459229808877176)\n"
     ]
    }
   ],
   "source": [
    "regr = LinearRegression()\n",
    "\n",
    "# Train the model using the training sets\n",
    "clf =regr.fit(X_train, y_train)\n",
    "# score = clf.score(X_test, y_test)\n",
    "# print \"Score: \", score\n",
    "\n",
    "y_pred = clf.predict(X_test)\n",
    "mae = mean_absolute_error(y_test, y_pred)\n",
    "print(\"MAE: \", mae)"
   ]
  },
  {
   "cell_type": "code",
   "execution_count": null,
   "metadata": {},
   "outputs": [],
   "source": [
    "print clf."
   ]
  },
  {
   "cell_type": "code",
   "execution_count": null,
   "metadata": {},
   "outputs": [],
   "source": [
    "# For Kaggle\n",
    "df_kaggle_set = pd.read_csv('test_V2.csv', encoding='utf-8')\n",
    "kaggle_set = df_kaggle_set.to_dict('records')"
   ]
  },
  {
   "cell_type": "code",
   "execution_count": 73,
   "metadata": {},
   "outputs": [
    {
     "name": "stdout",
     "output_type": "stream",
     "text": [
      "Started preparing submission file\n",
      "Prediction ready\n"
     ]
    }
   ],
   "source": [
    "print \"Started preparing submission file\"\n",
    "\n",
    "X_kaggle = [feature(d) for d in kaggle_set]\n",
    "ids_kaggle = [d['Id']for d in kaggle_set]\n",
    "\n",
    "predictions = clf.predict(X_kaggle)\n",
    "\n",
    "print \"Prediction ready\""
   ]
  },
  {
   "cell_type": "code",
   "execution_count": 74,
   "metadata": {},
   "outputs": [
    {
     "name": "stdout",
     "output_type": "stream",
     "text": [
      "Writing output file\n",
      "Submission file is ready.\n"
     ]
    }
   ],
   "source": [
    "print \"Writing output file\"\n",
    "\n",
    "f = open(\"test_y.csv\", \"w\")\n",
    "f.write(\"Id,winPlacePerc\\n\")\n",
    "for i in range(len(predictions)):\n",
    "    id_kaggle = ids_kaggle[i]\n",
    "    w = str(id_kaggle) + \",\" + str(predictions[i]) + \"\\n\"\n",
    "    f.write(w)\n",
    "f.close()\n",
    "\n",
    "print \"Submission file is ready.\""
   ]
  },
  {
   "cell_type": "markdown",
   "metadata": {},
   "source": [
    "## LightGBM"
   ]
  },
  {
   "cell_type": "code",
   "execution_count": 14,
   "metadata": {},
   "outputs": [],
   "source": [
    "import lightgbm as lgb\n",
    "from sklearn.metrics import mean_absolute_error"
   ]
  },
  {
   "cell_type": "code",
   "execution_count": 129,
   "metadata": {},
   "outputs": [
    {
     "name": "stdout",
     "output_type": "stream",
     "text": [
      "2018-12-02 23:23:01.818659\n",
      "MAE:  0.05740189677061773\n",
      "2018-12-02 23:34:56.911968\n"
     ]
    }
   ],
   "source": [
    "import datetime\n",
    "\n",
    "params = {\n",
    "    'boosting_type': 'gbdt',\n",
    "    'objective': 'regression_l1',\n",
    "    'metric': {'l2', 'l1'},\n",
    "    'num_leaves': 350,\n",
    "    'max_bin': 350,\n",
    "    'num_iterations': 1000,\n",
    "    'learning_rate': 0.05,\n",
    "    'num_threads': 2,\n",
    "    'feature_fraction': 0.9,\n",
    "    'bagging_fraction': 0.8,\n",
    "    'bagging_freq': 5,\n",
    "    'verbose': 0\n",
    "}\n",
    "\n",
    "print(datetime.datetime.now())\n",
    "\n",
    "lgb_data = lgb.Dataset(X_train, y_train)\n",
    "lgb_train = lgb.train(params, lgb_data)\n",
    "predictions = lgb_train.predict(X_test)\n",
    "mae = mean_absolute_error(y_test, predictions)\n",
    "print \"MAE: \", mae\n",
    "\n",
    "print(datetime.datetime.now())"
   ]
  },
  {
   "cell_type": "code",
   "execution_count": 193,
   "metadata": {},
   "outputs": [],
   "source": [
    "xlabels = list(rel_cols)\n",
    "def columnNameToName(s):\n",
    "    s = str(s.get_text())\n",
    "    index = s.split(\"_\")[1]\n",
    "    return xlabels[ int(index) ]"
   ]
  },
  {
   "cell_type": "code",
   "execution_count": 197,
   "metadata": {},
   "outputs": [
    {
     "data": {
      "text/plain": [
       "[]"
      ]
     },
     "execution_count": 197,
     "metadata": {},
     "output_type": "execute_result"
    },
    {
     "data": {
      "image/png": "[encoded data removed]",
      "text/plain": [
       "<Figure size 432x288 with 1 Axes>"
      ]
     },
     "metadata": {
      "needs_background": "light"
     },
     "output_type": "display_data"
    }
   ],
   "source": [
    "subplot = lightgbm.plot_importance(lgb_train)\n",
    "subplot.axes.set_yticklabels( [columnNameToName(s) for s in subplot.axes.get_yticklabels()] )\n",
    "subplot.plot()"
   ]
  },
  {
   "cell_type": "code",
   "execution_count": 109,
   "metadata": {},
   "outputs": [],
   "source": [
    "# For Kaggle\n",
    "df_kaggle_set = pd.read_csv('test_V2.csv', encoding='utf-8')\n",
    "kaggle_set = df_kaggle_set.to_dict('records')"
   ]
  },
  {
   "cell_type": "code",
   "execution_count": 110,
   "metadata": {},
   "outputs": [
    {
     "name": "stdout",
     "output_type": "stream",
     "text": [
      "Started preparing submission file\n",
      "Prediction ready\n"
     ]
    }
   ],
   "source": [
    "print \"Started preparing submission file\"\n",
    "\n",
    "X_kaggle = [feature(d) for d in kaggle_set]\n",
    "ids_kaggle = [d['Id']for d in kaggle_set]\n",
    "\n",
    "predictions = lgb_train.predict(X_kaggle)\n",
    "\n",
    "print \"Prediction ready\""
   ]
  },
  {
   "cell_type": "code",
   "execution_count": 111,
   "metadata": {},
   "outputs": [
    {
     "name": "stdout",
     "output_type": "stream",
     "text": [
      "Writing output file\n",
      "Submission file is ready.\n"
     ]
    }
   ],
   "source": [
    "print \"Writing output file\"\n",
    "\n",
    "f = open(\"test_y.csv\", \"w\")\n",
    "f.write(\"Id,winPlacePerc\\n\")\n",
    "for i in range(len(predictions)):\n",
    "    id_kaggle = ids_kaggle[i]\n",
    "    w = str(id_kaggle) + \",\" + str(predictions[i]) + \"\\n\"\n",
    "    f.write(w)\n",
    "f.close()\n",
    "\n",
    "print \"Submission file is ready.\""
   ]
  },
  {
   "cell_type": "markdown",
   "metadata": {},
   "source": [
    "## CatBoost"
   ]
  },
  {
   "cell_type": "code",
   "execution_count": 113,
   "metadata": {},
   "outputs": [],
   "source": [
    "import catboost"
   ]
  },
  {
   "cell_type": "code",
   "execution_count": 137,
   "metadata": {},
   "outputs": [
    {
     "name": "stdout",
     "output_type": "stream",
     "text": [
      "0:\tlearn: 0.4510775\ttotal: 582ms\tremaining: 11m 37s\n",
      "1:\tlearn: 0.4285785\ttotal: 1.19s\tremaining: 11m 55s\n",
      "2:\tlearn: 0.4077904\ttotal: 1.79s\tremaining: 11m 52s\n",
      "3:\tlearn: 0.3875677\ttotal: 2.38s\tremaining: 11m 51s\n",
      "4:\tlearn: 0.3682325\ttotal: 2.94s\tremaining: 11m 43s\n",
      "5:\tlearn: 0.3497470\ttotal: 3.44s\tremaining: 11m 24s\n",
      "6:\tlearn: 0.3319446\ttotal: 3.91s\tremaining: 11m 7s\n",
      "7:\tlearn: 0.3146820\ttotal: 4.37s\tremaining: 10m 51s\n",
      "8:\tlearn: 0.2981850\ttotal: 4.93s\tremaining: 10m 52s\n",
      "9:\tlearn: 0.2822997\ttotal: 5.65s\tremaining: 11m 11s\n",
      "10:\tlearn: 0.2670744\ttotal: 6.13s\tremaining: 11m 2s\n",
      "11:\tlearn: 0.2524594\ttotal: 6.59s\tremaining: 10m 52s\n",
      "12:\tlearn: 0.2383111\ttotal: 7.18s\tremaining: 10m 55s\n",
      "13:\tlearn: 0.2247697\ttotal: 7.68s\tremaining: 10m 51s\n",
      "14:\tlearn: 0.2118286\ttotal: 8.15s\tremaining: 10m 43s\n",
      "15:\tlearn: 0.1994194\ttotal: 8.71s\tremaining: 10m 44s\n",
      "16:\tlearn: 0.1876760\ttotal: 9.53s\tremaining: 11m 3s\n",
      "17:\tlearn: 0.1764261\ttotal: 10.4s\tremaining: 11m 22s\n",
      "18:\tlearn: 0.1657955\ttotal: 11s\tremaining: 11m 23s\n",
      "19:\tlearn: 0.1556913\ttotal: 11.7s\tremaining: 11m 28s\n",
      "20:\tlearn: 0.1461669\ttotal: 12.3s\tremaining: 11m 30s\n",
      "21:\tlearn: 0.1372343\ttotal: 12.9s\tremaining: 11m 30s\n",
      "22:\tlearn: 0.1287645\ttotal: 13.4s\tremaining: 11m 24s\n",
      "23:\tlearn: 0.1209063\ttotal: 14s\tremaining: 11m 26s\n",
      "24:\tlearn: 0.1135516\ttotal: 14.6s\tremaining: 11m 23s\n",
      "25:\tlearn: 0.1068513\ttotal: 15.3s\tremaining: 11m 28s\n",
      "26:\tlearn: 0.1006116\ttotal: 15.9s\tremaining: 11m 31s\n",
      "27:\tlearn: 0.0949220\ttotal: 16.4s\tremaining: 11m 24s\n",
      "28:\tlearn: 0.0898108\ttotal: 16.9s\tremaining: 11m 21s\n",
      "29:\tlearn: 0.0852418\ttotal: 17.5s\tremaining: 11m 22s\n",
      "30:\tlearn: 0.0812153\ttotal: 18.3s\tremaining: 11m 30s\n",
      "31:\tlearn: 0.0777144\ttotal: 19.3s\tremaining: 11m 44s\n",
      "32:\tlearn: 0.0747775\ttotal: 19.8s\tremaining: 11m 41s\n",
      "33:\tlearn: 0.0722040\ttotal: 20.5s\tremaining: 11m 42s\n",
      "34:\tlearn: 0.0701325\ttotal: 21.1s\tremaining: 11m 41s\n",
      "35:\tlearn: 0.0683405\ttotal: 21.6s\tremaining: 11m 39s\n",
      "36:\tlearn: 0.0670280\ttotal: 22.1s\tremaining: 11m 35s\n",
      "37:\tlearn: 0.0659358\ttotal: 22.7s\tremaining: 11m 34s\n",
      "38:\tlearn: 0.0650370\ttotal: 23.2s\tremaining: 11m 30s\n",
      "39:\tlearn: 0.0643955\ttotal: 23.7s\tremaining: 11m 26s\n",
      "40:\tlearn: 0.0638717\ttotal: 24.1s\tremaining: 11m 21s\n",
      "41:\tlearn: 0.0634759\ttotal: 24.7s\tremaining: 11m 20s\n",
      "42:\tlearn: 0.0630978\ttotal: 25.2s\tremaining: 11m 19s\n",
      "43:\tlearn: 0.0628118\ttotal: 25.7s\tremaining: 11m 15s\n",
      "44:\tlearn: 0.0625135\ttotal: 26.2s\tremaining: 11m 13s\n",
      "45:\tlearn: 0.0623392\ttotal: 26.7s\tremaining: 11m 9s\n",
      "46:\tlearn: 0.0621820\ttotal: 27.1s\tremaining: 11m 5s\n",
      "47:\tlearn: 0.0620383\ttotal: 27.5s\tremaining: 11m 1s\n",
      "48:\tlearn: 0.0618770\ttotal: 28s\tremaining: 10m 56s\n",
      "49:\tlearn: 0.0618110\ttotal: 28.4s\tremaining: 10m 52s\n",
      "50:\tlearn: 0.0618100\ttotal: 28.8s\tremaining: 10m 48s\n",
      "51:\tlearn: 0.0616685\ttotal: 29.2s\tremaining: 10m 44s\n",
      "52:\tlearn: 0.0616094\ttotal: 29.6s\tremaining: 10m 40s\n",
      "53:\tlearn: 0.0615765\ttotal: 30s\tremaining: 10m 37s\n",
      "54:\tlearn: 0.0615692\ttotal: 30.6s\tremaining: 10m 37s\n",
      "55:\tlearn: 0.0615574\ttotal: 31.1s\tremaining: 10m 34s\n",
      "56:\tlearn: 0.0615252\ttotal: 31.6s\tremaining: 10m 33s\n",
      "57:\tlearn: 0.0614312\ttotal: 32.3s\tremaining: 10m 35s\n",
      "58:\tlearn: 0.0613913\ttotal: 32.7s\tremaining: 10m 32s\n",
      "59:\tlearn: 0.0613713\ttotal: 33.2s\tremaining: 10m 31s\n",
      "60:\tlearn: 0.0613805\ttotal: 33.7s\tremaining: 10m 28s\n",
      "61:\tlearn: 0.0613715\ttotal: 34.1s\tremaining: 10m 26s\n",
      "62:\tlearn: 0.0613654\ttotal: 34.8s\tremaining: 10m 27s\n",
      "63:\tlearn: 0.0613658\ttotal: 35.5s\tremaining: 10m 30s\n",
      "64:\tlearn: 0.0612823\ttotal: 36.2s\tremaining: 10m 32s\n",
      "65:\tlearn: 0.0611801\ttotal: 37.1s\tremaining: 10m 36s\n",
      "66:\tlearn: 0.0611628\ttotal: 37.5s\tremaining: 10m 34s\n",
      "67:\tlearn: 0.0610389\ttotal: 38s\tremaining: 10m 32s\n",
      "68:\tlearn: 0.0609591\ttotal: 38.5s\tremaining: 10m 30s\n",
      "69:\tlearn: 0.0608045\ttotal: 39.1s\tremaining: 10m 30s\n",
      "70:\tlearn: 0.0607421\ttotal: 39.6s\tremaining: 10m 29s\n",
      "71:\tlearn: 0.0607353\ttotal: 40.1s\tremaining: 10m 27s\n",
      "72:\tlearn: 0.0605951\ttotal: 41.3s\tremaining: 10m 37s\n",
      "73:\tlearn: 0.0605151\ttotal: 42.4s\tremaining: 10m 44s\n",
      "74:\tlearn: 0.0604078\ttotal: 43s\tremaining: 10m 45s\n",
      "75:\tlearn: 0.0603513\ttotal: 43.7s\tremaining: 10m 46s\n",
      "76:\tlearn: 0.0602652\ttotal: 44.6s\tremaining: 10m 49s\n",
      "77:\tlearn: 0.0601976\ttotal: 45.4s\tremaining: 10m 53s\n",
      "78:\tlearn: 0.0601334\ttotal: 45.9s\tremaining: 10m 50s\n",
      "79:\tlearn: 0.0601333\ttotal: 46.3s\tremaining: 10m 48s\n",
      "80:\tlearn: 0.0601269\ttotal: 46.7s\tremaining: 10m 45s\n",
      "81:\tlearn: 0.0601164\ttotal: 47.1s\tremaining: 10m 42s\n",
      "82:\tlearn: 0.0600931\ttotal: 47.6s\tremaining: 10m 40s\n",
      "83:\tlearn: 0.0600807\ttotal: 48s\tremaining: 10m 37s\n",
      "84:\tlearn: 0.0600746\ttotal: 48.4s\tremaining: 10m 34s\n",
      "85:\tlearn: 0.0600678\ttotal: 48.9s\tremaining: 10m 33s\n",
      "86:\tlearn: 0.0600535\ttotal: 49.3s\tremaining: 10m 31s\n",
      "87:\tlearn: 0.0600659\ttotal: 49.9s\tremaining: 10m 30s\n",
      "88:\tlearn: 0.0600570\ttotal: 50.6s\tremaining: 10m 31s\n",
      "89:\tlearn: 0.0600486\ttotal: 51.3s\tremaining: 10m 32s\n",
      "90:\tlearn: 0.0600363\ttotal: 51.8s\tremaining: 10m 30s\n",
      "91:\tlearn: 0.0600420\ttotal: 52.3s\tremaining: 10m 30s\n",
      "92:\tlearn: 0.0600398\ttotal: 52.9s\tremaining: 10m 29s\n",
      "93:\tlearn: 0.0600443\ttotal: 53.3s\tremaining: 10m 27s\n",
      "94:\tlearn: 0.0600343\ttotal: 53.8s\tremaining: 10m 25s\n",
      "95:\tlearn: 0.0600430\ttotal: 54.2s\tremaining: 10m 23s\n",
      "96:\tlearn: 0.0600402\ttotal: 54.7s\tremaining: 10m 21s\n",
      "97:\tlearn: 0.0600426\ttotal: 55.3s\tremaining: 10m 21s\n",
      "98:\tlearn: 0.0600231\ttotal: 55.8s\tremaining: 10m 20s\n",
      "99:\tlearn: 0.0599705\ttotal: 56.4s\tremaining: 10m 20s\n",
      "100:\tlearn: 0.0599662\ttotal: 56.9s\tremaining: 10m 18s\n",
      "101:\tlearn: 0.0599721\ttotal: 57.3s\tremaining: 10m 17s\n",
      "102:\tlearn: 0.0599643\ttotal: 57.9s\tremaining: 10m 16s\n",
      "103:\tlearn: 0.0599691\ttotal: 58.4s\tremaining: 10m 15s\n",
      "104:\tlearn: 0.0599625\ttotal: 58.9s\tremaining: 10m 13s\n",
      "105:\tlearn: 0.0598630\ttotal: 59.4s\tremaining: 10m 12s\n",
      "106:\tlearn: 0.0597925\ttotal: 59.8s\tremaining: 10m 11s\n",
      "107:\tlearn: 0.0597443\ttotal: 1m\tremaining: 10m 10s\n",
      "108:\tlearn: 0.0597345\ttotal: 1m\tremaining: 10m 9s\n",
      "109:\tlearn: 0.0596813\ttotal: 1m 1s\tremaining: 10m 10s\n",
      "110:\tlearn: 0.0596082\ttotal: 1m 2s\tremaining: 10m 11s\n",
      "111:\tlearn: 0.0595746\ttotal: 1m 2s\tremaining: 10m 10s\n",
      "112:\tlearn: 0.0594964\ttotal: 1m 3s\tremaining: 10m 9s\n",
      "113:\tlearn: 0.0594242\ttotal: 1m 3s\tremaining: 10m 7s\n",
      "114:\tlearn: 0.0593815\ttotal: 1m 4s\tremaining: 10m 6s\n",
      "115:\tlearn: 0.0593775\ttotal: 1m 4s\tremaining: 10m 4s\n",
      "116:\tlearn: 0.0593467\ttotal: 1m 5s\tremaining: 10m 3s\n",
      "117:\tlearn: 0.0593148\ttotal: 1m 5s\tremaining: 10m 1s\n",
      "118:\tlearn: 0.0592737\ttotal: 1m 6s\tremaining: 10m 1s\n",
      "119:\tlearn: 0.0592072\ttotal: 1m 6s\tremaining: 10m 2s\n",
      "120:\tlearn: 0.0591670\ttotal: 1m 7s\tremaining: 10m 1s\n",
      "121:\tlearn: 0.0591471\ttotal: 1m 7s\tremaining: 10m\n",
      "122:\tlearn: 0.0591223\ttotal: 1m 8s\tremaining: 9m 59s\n",
      "123:\tlearn: 0.0590969\ttotal: 1m 8s\tremaining: 9m 57s\n",
      "124:\tlearn: 0.0590641\ttotal: 1m 9s\tremaining: 9m 56s\n",
      "125:\tlearn: 0.0590228\ttotal: 1m 9s\tremaining: 9m 56s\n",
      "126:\tlearn: 0.0589868\ttotal: 1m 10s\tremaining: 9m 55s\n",
      "127:\tlearn: 0.0589501\ttotal: 1m 11s\tremaining: 9m 55s\n",
      "128:\tlearn: 0.0589106\ttotal: 1m 11s\tremaining: 9m 56s\n",
      "129:\tlearn: 0.0588992\ttotal: 1m 12s\tremaining: 9m 55s\n",
      "130:\tlearn: 0.0588500\ttotal: 1m 12s\tremaining: 9m 54s\n",
      "131:\tlearn: 0.0588325\ttotal: 1m 13s\tremaining: 9m 52s\n",
      "132:\tlearn: 0.0588049\ttotal: 1m 13s\tremaining: 9m 51s\n",
      "133:\tlearn: 0.0587884\ttotal: 1m 14s\tremaining: 9m 51s\n",
      "134:\tlearn: 0.0587711\ttotal: 1m 14s\tremaining: 9m 49s\n",
      "135:\tlearn: 0.0587384\ttotal: 1m 15s\tremaining: 9m 48s\n",
      "136:\tlearn: 0.0587202\ttotal: 1m 15s\tremaining: 9m 47s\n",
      "137:\tlearn: 0.0586801\ttotal: 1m 16s\tremaining: 9m 46s\n",
      "138:\tlearn: 0.0586767\ttotal: 1m 16s\tremaining: 9m 46s\n",
      "139:\tlearn: 0.0586582\ttotal: 1m 17s\tremaining: 9m 46s\n",
      "140:\tlearn: 0.0586523\ttotal: 1m 18s\tremaining: 9m 46s\n",
      "141:\tlearn: 0.0586402\ttotal: 1m 18s\tremaining: 9m 45s\n",
      "142:\tlearn: 0.0586342\ttotal: 1m 19s\tremaining: 9m 48s\n",
      "143:\tlearn: 0.0586161\ttotal: 1m 20s\tremaining: 9m 48s\n",
      "144:\tlearn: 0.0586075\ttotal: 1m 20s\tremaining: 9m 46s\n",
      "145:\tlearn: 0.0585984\ttotal: 1m 21s\tremaining: 9m 45s\n",
      "146:\tlearn: 0.0585916\ttotal: 1m 21s\tremaining: 9m 43s\n",
      "147:\tlearn: 0.0585807\ttotal: 1m 21s\tremaining: 9m 42s\n",
      "148:\tlearn: 0.0585779\ttotal: 1m 22s\tremaining: 9m 41s\n",
      "149:\tlearn: 0.0585659\ttotal: 1m 22s\tremaining: 9m 40s\n",
      "150:\tlearn: 0.0585603\ttotal: 1m 23s\tremaining: 9m 39s\n",
      "151:\tlearn: 0.0585480\ttotal: 1m 24s\tremaining: 9m 39s\n",
      "152:\tlearn: 0.0585470\ttotal: 1m 24s\tremaining: 9m 38s\n",
      "153:\tlearn: 0.0585340\ttotal: 1m 25s\tremaining: 9m 39s\n",
      "154:\tlearn: 0.0585333\ttotal: 1m 26s\tremaining: 9m 43s\n"
     ]
    },
    {
     "name": "stdout",
     "output_type": "stream",
     "text": [
      "155:\tlearn: 0.0585214\ttotal: 1m 27s\tremaining: 9m 43s\n",
      "156:\tlearn: 0.0585188\ttotal: 1m 27s\tremaining: 9m 42s\n",
      "157:\tlearn: 0.0585099\ttotal: 1m 28s\tremaining: 9m 41s\n",
      "158:\tlearn: 0.0585016\ttotal: 1m 28s\tremaining: 9m 40s\n",
      "159:\tlearn: 0.0584868\ttotal: 1m 29s\tremaining: 9m 39s\n",
      "160:\tlearn: 0.0584890\ttotal: 1m 29s\tremaining: 9m 39s\n",
      "161:\tlearn: 0.0584865\ttotal: 1m 30s\tremaining: 9m 38s\n",
      "162:\tlearn: 0.0584894\ttotal: 1m 30s\tremaining: 9m 37s\n",
      "163:\tlearn: 0.0584883\ttotal: 1m 31s\tremaining: 9m 36s\n",
      "164:\tlearn: 0.0584871\ttotal: 1m 31s\tremaining: 9m 35s\n",
      "165:\tlearn: 0.0584796\ttotal: 1m 32s\tremaining: 9m 35s\n",
      "166:\tlearn: 0.0584796\ttotal: 1m 32s\tremaining: 9m 33s\n",
      "167:\tlearn: 0.0584717\ttotal: 1m 34s\tremaining: 9m 38s\n",
      "168:\tlearn: 0.0584632\ttotal: 1m 35s\tremaining: 9m 41s\n",
      "169:\tlearn: 0.0584637\ttotal: 1m 36s\tremaining: 9m 41s\n",
      "170:\tlearn: 0.0584560\ttotal: 1m 36s\tremaining: 9m 41s\n",
      "171:\tlearn: 0.0584357\ttotal: 1m 37s\tremaining: 9m 40s\n",
      "172:\tlearn: 0.0584191\ttotal: 1m 38s\tremaining: 9m 42s\n",
      "173:\tlearn: 0.0584125\ttotal: 1m 38s\tremaining: 9m 41s\n",
      "174:\tlearn: 0.0584040\ttotal: 1m 39s\tremaining: 9m 40s\n",
      "175:\tlearn: 0.0583947\ttotal: 1m 39s\tremaining: 9m 39s\n",
      "176:\tlearn: 0.0583736\ttotal: 1m 40s\tremaining: 9m 39s\n",
      "177:\tlearn: 0.0583681\ttotal: 1m 40s\tremaining: 9m 39s\n",
      "178:\tlearn: 0.0583577\ttotal: 1m 41s\tremaining: 9m 38s\n",
      "179:\tlearn: 0.0583527\ttotal: 1m 41s\tremaining: 9m 37s\n",
      "180:\tlearn: 0.0583462\ttotal: 1m 42s\tremaining: 9m 36s\n",
      "181:\tlearn: 0.0583430\ttotal: 1m 43s\tremaining: 9m 37s\n",
      "182:\tlearn: 0.0583402\ttotal: 1m 43s\tremaining: 9m 37s\n",
      "183:\tlearn: 0.0583384\ttotal: 1m 44s\tremaining: 9m 36s\n",
      "184:\tlearn: 0.0583377\ttotal: 1m 45s\tremaining: 9m 36s\n",
      "185:\tlearn: 0.0583260\ttotal: 1m 46s\tremaining: 9m 38s\n",
      "186:\tlearn: 0.0583230\ttotal: 1m 47s\tremaining: 9m 40s\n",
      "187:\tlearn: 0.0583220\ttotal: 1m 47s\tremaining: 9m 39s\n",
      "188:\tlearn: 0.0583224\ttotal: 1m 48s\tremaining: 9m 37s\n",
      "189:\tlearn: 0.0583171\ttotal: 1m 48s\tremaining: 9m 38s\n",
      "190:\tlearn: 0.0583154\ttotal: 1m 49s\tremaining: 9m 37s\n",
      "191:\tlearn: 0.0583138\ttotal: 1m 49s\tremaining: 9m 36s\n",
      "192:\tlearn: 0.0583103\ttotal: 1m 50s\tremaining: 9m 35s\n",
      "193:\tlearn: 0.0583084\ttotal: 1m 50s\tremaining: 9m 34s\n",
      "194:\tlearn: 0.0583064\ttotal: 1m 51s\tremaining: 9m 34s\n",
      "195:\tlearn: 0.0582892\ttotal: 1m 52s\tremaining: 9m 34s\n",
      "196:\tlearn: 0.0582809\ttotal: 1m 53s\tremaining: 9m 35s\n",
      "197:\tlearn: 0.0582821\ttotal: 1m 53s\tremaining: 9m 34s\n",
      "198:\tlearn: 0.0582624\ttotal: 1m 54s\tremaining: 9m 34s\n",
      "199:\tlearn: 0.0582634\ttotal: 1m 54s\tremaining: 9m 33s\n",
      "200:\tlearn: 0.0582561\ttotal: 1m 55s\tremaining: 9m 32s\n",
      "201:\tlearn: 0.0582596\ttotal: 1m 55s\tremaining: 9m 32s\n",
      "202:\tlearn: 0.0582201\ttotal: 1m 56s\tremaining: 9m 32s\n",
      "203:\tlearn: 0.0582171\ttotal: 1m 56s\tremaining: 9m 30s\n",
      "204:\tlearn: 0.0582162\ttotal: 1m 57s\tremaining: 9m 29s\n",
      "205:\tlearn: 0.0582132\ttotal: 1m 57s\tremaining: 9m 28s\n",
      "206:\tlearn: 0.0582132\ttotal: 1m 58s\tremaining: 9m 27s\n",
      "207:\tlearn: 0.0582115\ttotal: 1m 58s\tremaining: 9m 26s\n",
      "208:\tlearn: 0.0582108\ttotal: 1m 59s\tremaining: 9m 25s\n",
      "209:\tlearn: 0.0582017\ttotal: 1m 59s\tremaining: 9m 24s\n",
      "210:\tlearn: 0.0581913\ttotal: 2m\tremaining: 9m 22s\n",
      "211:\tlearn: 0.0581853\ttotal: 2m\tremaining: 9m 21s\n",
      "212:\tlearn: 0.0581879\ttotal: 2m\tremaining: 9m 20s\n",
      "213:\tlearn: 0.0581811\ttotal: 2m 1s\tremaining: 9m 19s\n",
      "214:\tlearn: 0.0581770\ttotal: 2m 1s\tremaining: 9m 18s\n",
      "215:\tlearn: 0.0581702\ttotal: 2m 2s\tremaining: 9m 18s\n",
      "216:\tlearn: 0.0581718\ttotal: 2m 3s\tremaining: 9m 18s\n",
      "217:\tlearn: 0.0581584\ttotal: 2m 3s\tremaining: 9m 17s\n",
      "218:\tlearn: 0.0581550\ttotal: 2m 4s\tremaining: 9m 17s\n",
      "219:\tlearn: 0.0581415\ttotal: 2m 4s\tremaining: 9m 16s\n",
      "220:\tlearn: 0.0581379\ttotal: 2m 5s\tremaining: 9m 15s\n",
      "221:\tlearn: 0.0581339\ttotal: 2m 5s\tremaining: 9m 14s\n",
      "222:\tlearn: 0.0581281\ttotal: 2m 6s\tremaining: 9m 13s\n",
      "223:\tlearn: 0.0581292\ttotal: 2m 7s\tremaining: 9m 13s\n",
      "224:\tlearn: 0.0581307\ttotal: 2m 7s\tremaining: 9m 13s\n",
      "225:\tlearn: 0.0581314\ttotal: 2m 8s\tremaining: 9m 12s\n",
      "226:\tlearn: 0.0581104\ttotal: 2m 8s\tremaining: 9m 10s\n",
      "227:\tlearn: 0.0580998\ttotal: 2m 8s\tremaining: 9m 9s\n",
      "228:\tlearn: 0.0580958\ttotal: 2m 9s\tremaining: 9m 8s\n",
      "229:\tlearn: 0.0580794\ttotal: 2m 9s\tremaining: 9m 7s\n",
      "230:\tlearn: 0.0580555\ttotal: 2m 10s\tremaining: 9m 6s\n",
      "231:\tlearn: 0.0580559\ttotal: 2m 10s\tremaining: 9m 5s\n",
      "232:\tlearn: 0.0580495\ttotal: 2m 11s\tremaining: 9m 4s\n",
      "233:\tlearn: 0.0580399\ttotal: 2m 11s\tremaining: 9m 3s\n",
      "234:\tlearn: 0.0580236\ttotal: 2m 11s\tremaining: 9m 1s\n",
      "235:\tlearn: 0.0580189\ttotal: 2m 12s\tremaining: 9m\n",
      "236:\tlearn: 0.0580026\ttotal: 2m 12s\tremaining: 8m 59s\n",
      "237:\tlearn: 0.0579913\ttotal: 2m 13s\tremaining: 8m 58s\n",
      "238:\tlearn: 0.0579810\ttotal: 2m 13s\tremaining: 8m 57s\n",
      "239:\tlearn: 0.0579680\ttotal: 2m 14s\tremaining: 8m 56s\n",
      "240:\tlearn: 0.0579641\ttotal: 2m 14s\tremaining: 8m 55s\n",
      "241:\tlearn: 0.0579513\ttotal: 2m 14s\tremaining: 8m 54s\n",
      "242:\tlearn: 0.0579367\ttotal: 2m 15s\tremaining: 8m 52s\n",
      "243:\tlearn: 0.0579285\ttotal: 2m 15s\tremaining: 8m 51s\n",
      "244:\tlearn: 0.0579240\ttotal: 2m 16s\tremaining: 8m 50s\n",
      "245:\tlearn: 0.0579203\ttotal: 2m 16s\tremaining: 8m 49s\n",
      "246:\tlearn: 0.0579167\ttotal: 2m 17s\tremaining: 8m 48s\n",
      "247:\tlearn: 0.0579129\ttotal: 2m 17s\tremaining: 8m 47s\n",
      "248:\tlearn: 0.0579114\ttotal: 2m 17s\tremaining: 8m 46s\n",
      "249:\tlearn: 0.0579097\ttotal: 2m 18s\tremaining: 8m 45s\n",
      "250:\tlearn: 0.0579041\ttotal: 2m 18s\tremaining: 8m 44s\n",
      "251:\tlearn: 0.0578968\ttotal: 2m 19s\tremaining: 8m 44s\n",
      "252:\tlearn: 0.0578854\ttotal: 2m 19s\tremaining: 8m 43s\n",
      "253:\tlearn: 0.0578834\ttotal: 2m 20s\tremaining: 8m 43s\n",
      "254:\tlearn: 0.0578724\ttotal: 2m 21s\tremaining: 8m 42s\n",
      "255:\tlearn: 0.0578733\ttotal: 2m 21s\tremaining: 8m 42s\n",
      "256:\tlearn: 0.0578701\ttotal: 2m 22s\tremaining: 8m 41s\n",
      "257:\tlearn: 0.0578659\ttotal: 2m 22s\tremaining: 8m 41s\n",
      "258:\tlearn: 0.0578537\ttotal: 2m 23s\tremaining: 8m 40s\n",
      "259:\tlearn: 0.0578499\ttotal: 2m 23s\tremaining: 8m 39s\n",
      "260:\tlearn: 0.0578297\ttotal: 2m 24s\tremaining: 8m 39s\n",
      "261:\tlearn: 0.0578270\ttotal: 2m 24s\tremaining: 8m 38s\n",
      "262:\tlearn: 0.0578204\ttotal: 2m 25s\tremaining: 8m 37s\n",
      "263:\tlearn: 0.0578212\ttotal: 2m 25s\tremaining: 8m 36s\n",
      "264:\tlearn: 0.0578157\ttotal: 2m 26s\tremaining: 8m 35s\n",
      "265:\tlearn: 0.0578164\ttotal: 2m 26s\tremaining: 8m 34s\n",
      "266:\tlearn: 0.0578151\ttotal: 2m 27s\tremaining: 8m 34s\n",
      "267:\tlearn: 0.0578140\ttotal: 2m 27s\tremaining: 8m 33s\n",
      "268:\tlearn: 0.0578131\ttotal: 2m 28s\tremaining: 8m 32s\n",
      "269:\tlearn: 0.0578060\ttotal: 2m 28s\tremaining: 8m 31s\n",
      "270:\tlearn: 0.0578068\ttotal: 2m 28s\tremaining: 8m 30s\n",
      "271:\tlearn: 0.0578006\ttotal: 2m 29s\tremaining: 8m 30s\n",
      "272:\tlearn: 0.0578014\ttotal: 2m 29s\tremaining: 8m 29s\n",
      "273:\tlearn: 0.0577983\ttotal: 2m 30s\tremaining: 8m 28s\n",
      "274:\tlearn: 0.0577993\ttotal: 2m 30s\tremaining: 8m 27s\n",
      "275:\tlearn: 0.0577956\ttotal: 2m 31s\tremaining: 8m 26s\n",
      "276:\tlearn: 0.0577975\ttotal: 2m 31s\tremaining: 8m 25s\n",
      "277:\tlearn: 0.0577912\ttotal: 2m 32s\tremaining: 8m 24s\n",
      "278:\tlearn: 0.0577905\ttotal: 2m 32s\tremaining: 8m 23s\n",
      "279:\tlearn: 0.0577755\ttotal: 2m 32s\tremaining: 8m 22s\n",
      "280:\tlearn: 0.0577760\ttotal: 2m 33s\tremaining: 8m 21s\n",
      "281:\tlearn: 0.0577644\ttotal: 2m 33s\tremaining: 8m 20s\n",
      "282:\tlearn: 0.0577675\ttotal: 2m 34s\tremaining: 8m 19s\n",
      "283:\tlearn: 0.0577602\ttotal: 2m 34s\tremaining: 8m 18s\n",
      "284:\tlearn: 0.0577592\ttotal: 2m 35s\tremaining: 8m 17s\n",
      "285:\tlearn: 0.0577498\ttotal: 2m 35s\tremaining: 8m 16s\n",
      "286:\tlearn: 0.0577457\ttotal: 2m 35s\tremaining: 8m 15s\n",
      "287:\tlearn: 0.0577316\ttotal: 2m 36s\tremaining: 8m 14s\n",
      "288:\tlearn: 0.0577155\ttotal: 2m 36s\tremaining: 8m 13s\n",
      "289:\tlearn: 0.0577069\ttotal: 2m 37s\tremaining: 8m 13s\n",
      "290:\tlearn: 0.0577048\ttotal: 2m 37s\tremaining: 8m 12s\n",
      "291:\tlearn: 0.0576945\ttotal: 2m 38s\tremaining: 8m 11s\n",
      "292:\tlearn: 0.0576941\ttotal: 2m 38s\tremaining: 8m 11s\n",
      "293:\tlearn: 0.0576864\ttotal: 2m 39s\tremaining: 8m 11s\n",
      "294:\tlearn: 0.0576805\ttotal: 2m 39s\tremaining: 8m 10s\n",
      "295:\tlearn: 0.0576720\ttotal: 2m 40s\tremaining: 8m 10s\n",
      "296:\tlearn: 0.0576678\ttotal: 2m 41s\tremaining: 8m 9s\n",
      "297:\tlearn: 0.0576584\ttotal: 2m 41s\tremaining: 8m 8s\n",
      "298:\tlearn: 0.0576529\ttotal: 2m 41s\tremaining: 8m 8s\n",
      "299:\tlearn: 0.0576418\ttotal: 2m 42s\tremaining: 8m 7s\n",
      "300:\tlearn: 0.0576393\ttotal: 2m 43s\tremaining: 8m 7s\n",
      "301:\tlearn: 0.0576263\ttotal: 2m 43s\tremaining: 8m 6s\n",
      "302:\tlearn: 0.0576296\ttotal: 2m 44s\tremaining: 8m 6s\n",
      "303:\tlearn: 0.0576182\ttotal: 2m 45s\tremaining: 8m 7s\n",
      "304:\tlearn: 0.0576162\ttotal: 2m 45s\tremaining: 8m 7s\n",
      "305:\tlearn: 0.0576088\ttotal: 2m 46s\tremaining: 8m 6s\n",
      "306:\tlearn: 0.0576072\ttotal: 2m 47s\tremaining: 8m 6s\n",
      "307:\tlearn: 0.0576021\ttotal: 2m 47s\tremaining: 8m 5s\n"
     ]
    },
    {
     "name": "stdout",
     "output_type": "stream",
     "text": [
      "308:\tlearn: 0.0576004\ttotal: 2m 48s\tremaining: 8m 5s\n",
      "309:\tlearn: 0.0575784\ttotal: 2m 49s\tremaining: 8m 5s\n",
      "310:\tlearn: 0.0575747\ttotal: 2m 50s\tremaining: 8m 6s\n",
      "311:\tlearn: 0.0575671\ttotal: 2m 50s\tremaining: 8m 5s\n",
      "312:\tlearn: 0.0575622\ttotal: 2m 51s\tremaining: 8m 5s\n",
      "313:\tlearn: 0.0575547\ttotal: 2m 51s\tremaining: 8m 4s\n",
      "314:\tlearn: 0.0575445\ttotal: 2m 52s\tremaining: 8m 4s\n",
      "315:\tlearn: 0.0575366\ttotal: 2m 52s\tremaining: 8m 3s\n",
      "316:\tlearn: 0.0575239\ttotal: 2m 53s\tremaining: 8m 2s\n",
      "317:\tlearn: 0.0575195\ttotal: 2m 53s\tremaining: 8m 2s\n",
      "318:\tlearn: 0.0575121\ttotal: 2m 54s\tremaining: 8m 1s\n",
      "319:\tlearn: 0.0575077\ttotal: 2m 54s\tremaining: 8m\n",
      "320:\tlearn: 0.0575015\ttotal: 2m 55s\tremaining: 7m 59s\n",
      "321:\tlearn: 0.0574960\ttotal: 2m 55s\tremaining: 7m 59s\n",
      "322:\tlearn: 0.0574853\ttotal: 2m 56s\tremaining: 7m 58s\n",
      "323:\tlearn: 0.0574797\ttotal: 2m 56s\tremaining: 7m 57s\n",
      "324:\tlearn: 0.0574638\ttotal: 2m 57s\tremaining: 7m 56s\n",
      "325:\tlearn: 0.0574522\ttotal: 2m 57s\tremaining: 7m 55s\n",
      "326:\tlearn: 0.0574419\ttotal: 2m 57s\tremaining: 7m 55s\n",
      "327:\tlearn: 0.0574382\ttotal: 2m 58s\tremaining: 7m 54s\n",
      "328:\tlearn: 0.0574302\ttotal: 2m 58s\tremaining: 7m 53s\n",
      "329:\tlearn: 0.0574225\ttotal: 2m 59s\tremaining: 7m 52s\n",
      "330:\tlearn: 0.0574185\ttotal: 2m 59s\tremaining: 7m 52s\n",
      "331:\tlearn: 0.0574156\ttotal: 3m\tremaining: 7m 51s\n",
      "332:\tlearn: 0.0574095\ttotal: 3m\tremaining: 7m 50s\n",
      "333:\tlearn: 0.0574075\ttotal: 3m 1s\tremaining: 7m 49s\n",
      "334:\tlearn: 0.0574024\ttotal: 3m 1s\tremaining: 7m 49s\n",
      "335:\tlearn: 0.0573950\ttotal: 3m 2s\tremaining: 7m 48s\n",
      "336:\tlearn: 0.0573879\ttotal: 3m 2s\tremaining: 7m 47s\n",
      "337:\tlearn: 0.0573856\ttotal: 3m 3s\tremaining: 7m 46s\n",
      "338:\tlearn: 0.0573788\ttotal: 3m 3s\tremaining: 7m 46s\n",
      "339:\tlearn: 0.0573753\ttotal: 3m 3s\tremaining: 7m 45s\n",
      "340:\tlearn: 0.0573698\ttotal: 3m 4s\tremaining: 7m 44s\n",
      "341:\tlearn: 0.0573656\ttotal: 3m 4s\tremaining: 7m 43s\n",
      "342:\tlearn: 0.0573557\ttotal: 3m 5s\tremaining: 7m 43s\n",
      "343:\tlearn: 0.0573498\ttotal: 3m 5s\tremaining: 7m 42s\n",
      "344:\tlearn: 0.0573387\ttotal: 3m 6s\tremaining: 7m 41s\n",
      "345:\tlearn: 0.0573330\ttotal: 3m 6s\tremaining: 7m 40s\n",
      "346:\tlearn: 0.0573328\ttotal: 3m 7s\tremaining: 7m 40s\n",
      "347:\tlearn: 0.0573223\ttotal: 3m 7s\tremaining: 7m 39s\n",
      "348:\tlearn: 0.0573198\ttotal: 3m 8s\tremaining: 7m 38s\n",
      "349:\tlearn: 0.0573149\ttotal: 3m 8s\tremaining: 7m 37s\n",
      "350:\tlearn: 0.0573131\ttotal: 3m 8s\tremaining: 7m 37s\n",
      "351:\tlearn: 0.0573048\ttotal: 3m 9s\tremaining: 7m 36s\n",
      "352:\tlearn: 0.0573020\ttotal: 3m 9s\tremaining: 7m 35s\n",
      "353:\tlearn: 0.0573001\ttotal: 3m 10s\tremaining: 7m 34s\n",
      "354:\tlearn: 0.0573011\ttotal: 3m 10s\tremaining: 7m 34s\n",
      "355:\tlearn: 0.0572991\ttotal: 3m 11s\tremaining: 7m 33s\n",
      "356:\tlearn: 0.0572983\ttotal: 3m 11s\tremaining: 7m 32s\n",
      "357:\tlearn: 0.0572967\ttotal: 3m 12s\tremaining: 7m 31s\n",
      "358:\tlearn: 0.0572996\ttotal: 3m 12s\tremaining: 7m 31s\n",
      "359:\tlearn: 0.0572972\ttotal: 3m 13s\tremaining: 7m 30s\n",
      "360:\tlearn: 0.0572995\ttotal: 3m 13s\tremaining: 7m 29s\n",
      "361:\tlearn: 0.0572975\ttotal: 3m 13s\tremaining: 7m 29s\n",
      "362:\tlearn: 0.0572977\ttotal: 3m 14s\tremaining: 7m 28s\n",
      "363:\tlearn: 0.0572959\ttotal: 3m 14s\tremaining: 7m 27s\n",
      "364:\tlearn: 0.0572993\ttotal: 3m 15s\tremaining: 7m 26s\n",
      "365:\tlearn: 0.0572948\ttotal: 3m 15s\tremaining: 7m 26s\n",
      "366:\tlearn: 0.0572970\ttotal: 3m 16s\tremaining: 7m 25s\n",
      "367:\tlearn: 0.0572904\ttotal: 3m 16s\tremaining: 7m 24s\n",
      "368:\tlearn: 0.0572922\ttotal: 3m 17s\tremaining: 7m 23s\n",
      "369:\tlearn: 0.0572889\ttotal: 3m 17s\tremaining: 7m 23s\n",
      "370:\tlearn: 0.0572871\ttotal: 3m 18s\tremaining: 7m 22s\n",
      "371:\tlearn: 0.0572796\ttotal: 3m 18s\tremaining: 7m 22s\n",
      "372:\tlearn: 0.0572754\ttotal: 3m 19s\tremaining: 7m 22s\n",
      "373:\tlearn: 0.0572675\ttotal: 3m 20s\tremaining: 7m 22s\n",
      "374:\tlearn: 0.0572665\ttotal: 3m 20s\tremaining: 7m 21s\n",
      "375:\tlearn: 0.0572596\ttotal: 3m 21s\tremaining: 7m 21s\n",
      "376:\tlearn: 0.0572574\ttotal: 3m 21s\tremaining: 7m 20s\n",
      "377:\tlearn: 0.0572519\ttotal: 3m 22s\tremaining: 7m 19s\n",
      "378:\tlearn: 0.0572507\ttotal: 3m 22s\tremaining: 7m 19s\n",
      "379:\tlearn: 0.0572467\ttotal: 3m 23s\tremaining: 7m 18s\n",
      "380:\tlearn: 0.0572436\ttotal: 3m 23s\tremaining: 7m 18s\n",
      "381:\tlearn: 0.0572389\ttotal: 3m 24s\tremaining: 7m 18s\n",
      "382:\tlearn: 0.0572345\ttotal: 3m 25s\tremaining: 7m 18s\n",
      "383:\tlearn: 0.0572301\ttotal: 3m 26s\tremaining: 7m 17s\n",
      "384:\tlearn: 0.0572261\ttotal: 3m 26s\tremaining: 7m 17s\n",
      "385:\tlearn: 0.0572230\ttotal: 3m 27s\tremaining: 7m 16s\n",
      "386:\tlearn: 0.0572165\ttotal: 3m 27s\tremaining: 7m 16s\n",
      "387:\tlearn: 0.0572106\ttotal: 3m 28s\tremaining: 7m 15s\n",
      "388:\tlearn: 0.0572072\ttotal: 3m 28s\tremaining: 7m 15s\n",
      "389:\tlearn: 0.0572036\ttotal: 3m 29s\tremaining: 7m 14s\n",
      "390:\tlearn: 0.0571981\ttotal: 3m 29s\tremaining: 7m 13s\n",
      "391:\tlearn: 0.0571952\ttotal: 3m 30s\tremaining: 7m 13s\n",
      "392:\tlearn: 0.0571912\ttotal: 3m 30s\tremaining: 7m 12s\n",
      "393:\tlearn: 0.0571874\ttotal: 3m 31s\tremaining: 7m 12s\n",
      "394:\tlearn: 0.0571757\ttotal: 3m 31s\tremaining: 7m 11s\n",
      "395:\tlearn: 0.0571715\ttotal: 3m 32s\tremaining: 7m 11s\n",
      "396:\tlearn: 0.0571658\ttotal: 3m 33s\tremaining: 7m 10s\n",
      "397:\tlearn: 0.0571562\ttotal: 3m 33s\tremaining: 7m 10s\n",
      "398:\tlearn: 0.0571532\ttotal: 3m 34s\tremaining: 7m 10s\n",
      "399:\tlearn: 0.0571502\ttotal: 3m 34s\tremaining: 7m 9s\n",
      "400:\tlearn: 0.0571486\ttotal: 3m 35s\tremaining: 7m 8s\n",
      "401:\tlearn: 0.0571398\ttotal: 3m 35s\tremaining: 7m 8s\n",
      "402:\tlearn: 0.0571372\ttotal: 3m 36s\tremaining: 7m 7s\n",
      "403:\tlearn: 0.0571317\ttotal: 3m 36s\tremaining: 7m 6s\n",
      "404:\tlearn: 0.0571228\ttotal: 3m 37s\tremaining: 7m 6s\n",
      "405:\tlearn: 0.0571146\ttotal: 3m 37s\tremaining: 7m 5s\n",
      "406:\tlearn: 0.0571111\ttotal: 3m 37s\tremaining: 7m 4s\n",
      "407:\tlearn: 0.0570948\ttotal: 3m 38s\tremaining: 7m 4s\n",
      "408:\tlearn: 0.0570931\ttotal: 3m 38s\tremaining: 7m 3s\n",
      "409:\tlearn: 0.0570889\ttotal: 3m 39s\tremaining: 7m 2s\n",
      "410:\tlearn: 0.0570880\ttotal: 3m 39s\tremaining: 7m 1s\n",
      "411:\tlearn: 0.0570828\ttotal: 3m 40s\tremaining: 7m 1s\n",
      "412:\tlearn: 0.0570795\ttotal: 3m 40s\tremaining: 7m\n",
      "413:\tlearn: 0.0570737\ttotal: 3m 41s\tremaining: 6m 59s\n",
      "414:\tlearn: 0.0570672\ttotal: 3m 41s\tremaining: 6m 59s\n",
      "415:\tlearn: 0.0570610\ttotal: 3m 42s\tremaining: 6m 58s\n",
      "416:\tlearn: 0.0570585\ttotal: 3m 42s\tremaining: 6m 57s\n",
      "417:\tlearn: 0.0570511\ttotal: 3m 42s\tremaining: 6m 57s\n",
      "418:\tlearn: 0.0570492\ttotal: 3m 43s\tremaining: 6m 56s\n",
      "419:\tlearn: 0.0570418\ttotal: 3m 43s\tremaining: 6m 55s\n",
      "420:\tlearn: 0.0570408\ttotal: 3m 44s\tremaining: 6m 55s\n",
      "421:\tlearn: 0.0570328\ttotal: 3m 44s\tremaining: 6m 54s\n",
      "422:\tlearn: 0.0570306\ttotal: 3m 45s\tremaining: 6m 53s\n",
      "423:\tlearn: 0.0570257\ttotal: 3m 46s\tremaining: 6m 53s\n",
      "424:\tlearn: 0.0570237\ttotal: 3m 46s\tremaining: 6m 53s\n",
      "425:\tlearn: 0.0570188\ttotal: 3m 47s\tremaining: 6m 52s\n",
      "426:\tlearn: 0.0570174\ttotal: 3m 47s\tremaining: 6m 51s\n",
      "427:\tlearn: 0.0570112\ttotal: 3m 48s\tremaining: 6m 51s\n",
      "428:\tlearn: 0.0570071\ttotal: 3m 48s\tremaining: 6m 50s\n",
      "429:\tlearn: 0.0570032\ttotal: 3m 48s\tremaining: 6m 50s\n",
      "430:\tlearn: 0.0569999\ttotal: 3m 49s\tremaining: 6m 49s\n",
      "431:\tlearn: 0.0569933\ttotal: 3m 49s\tremaining: 6m 48s\n",
      "432:\tlearn: 0.0569897\ttotal: 3m 50s\tremaining: 6m 48s\n",
      "433:\tlearn: 0.0569875\ttotal: 3m 50s\tremaining: 6m 47s\n",
      "434:\tlearn: 0.0569871\ttotal: 3m 51s\tremaining: 6m 46s\n",
      "435:\tlearn: 0.0569793\ttotal: 3m 51s\tremaining: 6m 46s\n",
      "436:\tlearn: 0.0569781\ttotal: 3m 52s\tremaining: 6m 45s\n",
      "437:\tlearn: 0.0569762\ttotal: 3m 52s\tremaining: 6m 45s\n",
      "438:\tlearn: 0.0569770\ttotal: 3m 53s\tremaining: 6m 44s\n",
      "439:\tlearn: 0.0569748\ttotal: 3m 53s\tremaining: 6m 43s\n",
      "440:\tlearn: 0.0569763\ttotal: 3m 54s\tremaining: 6m 42s\n",
      "441:\tlearn: 0.0569754\ttotal: 3m 54s\tremaining: 6m 42s\n",
      "442:\tlearn: 0.0569723\ttotal: 3m 55s\tremaining: 6m 41s\n",
      "443:\tlearn: 0.0569684\ttotal: 3m 55s\tremaining: 6m 40s\n",
      "444:\tlearn: 0.0569706\ttotal: 3m 55s\tremaining: 6m 40s\n",
      "445:\tlearn: 0.0569693\ttotal: 3m 56s\tremaining: 6m 39s\n",
      "446:\tlearn: 0.0569704\ttotal: 3m 56s\tremaining: 6m 38s\n",
      "447:\tlearn: 0.0569678\ttotal: 3m 57s\tremaining: 6m 38s\n",
      "448:\tlearn: 0.0569673\ttotal: 3m 57s\tremaining: 6m 37s\n",
      "449:\tlearn: 0.0569649\ttotal: 3m 58s\tremaining: 6m 36s\n",
      "450:\tlearn: 0.0569608\ttotal: 3m 58s\tremaining: 6m 36s\n",
      "451:\tlearn: 0.0569591\ttotal: 3m 59s\tremaining: 6m 35s\n",
      "452:\tlearn: 0.0569582\ttotal: 3m 59s\tremaining: 6m 34s\n",
      "453:\tlearn: 0.0569506\ttotal: 3m 59s\tremaining: 6m 34s\n",
      "454:\tlearn: 0.0569538\ttotal: 4m\tremaining: 6m 33s\n",
      "455:\tlearn: 0.0569538\ttotal: 4m\tremaining: 6m 32s\n",
      "456:\tlearn: 0.0569538\ttotal: 4m 1s\tremaining: 6m 32s\n",
      "457:\tlearn: 0.0569534\ttotal: 4m 1s\tremaining: 6m 31s\n",
      "458:\tlearn: 0.0569529\ttotal: 4m 2s\tremaining: 6m 31s\n",
      "459:\tlearn: 0.0569530\ttotal: 4m 2s\tremaining: 6m 30s\n",
      "460:\tlearn: 0.0569541\ttotal: 4m 3s\tremaining: 6m 29s\n",
      "461:\tlearn: 0.0569512\ttotal: 4m 3s\tremaining: 6m 29s\n"
     ]
    },
    {
     "name": "stdout",
     "output_type": "stream",
     "text": [
      "462:\tlearn: 0.0569508\ttotal: 4m 3s\tremaining: 6m 28s\n",
      "463:\tlearn: 0.0569506\ttotal: 4m 4s\tremaining: 6m 27s\n",
      "464:\tlearn: 0.0569458\ttotal: 4m 4s\tremaining: 6m 27s\n",
      "465:\tlearn: 0.0569466\ttotal: 4m 5s\tremaining: 6m 26s\n",
      "466:\tlearn: 0.0569474\ttotal: 4m 5s\tremaining: 6m 25s\n",
      "467:\tlearn: 0.0569475\ttotal: 4m 6s\tremaining: 6m 25s\n",
      "468:\tlearn: 0.0569460\ttotal: 4m 6s\tremaining: 6m 24s\n",
      "469:\tlearn: 0.0569447\ttotal: 4m 7s\tremaining: 6m 23s\n",
      "470:\tlearn: 0.0569430\ttotal: 4m 7s\tremaining: 6m 23s\n",
      "471:\tlearn: 0.0569418\ttotal: 4m 8s\tremaining: 6m 22s\n",
      "472:\tlearn: 0.0569383\ttotal: 4m 8s\tremaining: 6m 21s\n",
      "473:\tlearn: 0.0569379\ttotal: 4m 8s\tremaining: 6m 21s\n",
      "474:\tlearn: 0.0569355\ttotal: 4m 9s\tremaining: 6m 20s\n",
      "475:\tlearn: 0.0569329\ttotal: 4m 9s\tremaining: 6m 19s\n",
      "476:\tlearn: 0.0569338\ttotal: 4m 10s\tremaining: 6m 19s\n",
      "477:\tlearn: 0.0569313\ttotal: 4m 10s\tremaining: 6m 18s\n",
      "478:\tlearn: 0.0569324\ttotal: 4m 11s\tremaining: 6m 18s\n",
      "479:\tlearn: 0.0569303\ttotal: 4m 11s\tremaining: 6m 17s\n",
      "480:\tlearn: 0.0569314\ttotal: 4m 12s\tremaining: 6m 16s\n",
      "481:\tlearn: 0.0569328\ttotal: 4m 12s\tremaining: 6m 16s\n",
      "482:\tlearn: 0.0569325\ttotal: 4m 12s\tremaining: 6m 15s\n",
      "483:\tlearn: 0.0569174\ttotal: 4m 13s\tremaining: 6m 14s\n",
      "484:\tlearn: 0.0569174\ttotal: 4m 13s\tremaining: 6m 14s\n",
      "485:\tlearn: 0.0569173\ttotal: 4m 14s\tremaining: 6m 13s\n",
      "486:\tlearn: 0.0569201\ttotal: 4m 14s\tremaining: 6m 12s\n",
      "487:\tlearn: 0.0569193\ttotal: 4m 15s\tremaining: 6m 12s\n",
      "488:\tlearn: 0.0569163\ttotal: 4m 15s\tremaining: 6m 11s\n",
      "489:\tlearn: 0.0569163\ttotal: 4m 16s\tremaining: 6m 10s\n",
      "490:\tlearn: 0.0569109\ttotal: 4m 16s\tremaining: 6m 10s\n",
      "491:\tlearn: 0.0569116\ttotal: 4m 16s\tremaining: 6m 9s\n",
      "492:\tlearn: 0.0569120\ttotal: 4m 17s\tremaining: 6m 9s\n",
      "493:\tlearn: 0.0569099\ttotal: 4m 17s\tremaining: 6m 8s\n",
      "494:\tlearn: 0.0569071\ttotal: 4m 18s\tremaining: 6m 7s\n",
      "495:\tlearn: 0.0569061\ttotal: 4m 18s\tremaining: 6m 7s\n",
      "496:\tlearn: 0.0569018\ttotal: 4m 19s\tremaining: 6m 6s\n",
      "497:\tlearn: 0.0568998\ttotal: 4m 19s\tremaining: 6m 5s\n",
      "498:\tlearn: 0.0568971\ttotal: 4m 19s\tremaining: 6m 5s\n",
      "499:\tlearn: 0.0568903\ttotal: 4m 20s\tremaining: 6m 4s\n",
      "500:\tlearn: 0.0568897\ttotal: 4m 20s\tremaining: 6m 3s\n",
      "501:\tlearn: 0.0568899\ttotal: 4m 21s\tremaining: 6m 3s\n",
      "502:\tlearn: 0.0568847\ttotal: 4m 21s\tremaining: 6m 2s\n",
      "503:\tlearn: 0.0568799\ttotal: 4m 22s\tremaining: 6m 2s\n",
      "504:\tlearn: 0.0568772\ttotal: 4m 22s\tremaining: 6m 1s\n",
      "505:\tlearn: 0.0568616\ttotal: 4m 23s\tremaining: 6m\n",
      "506:\tlearn: 0.0568475\ttotal: 4m 23s\tremaining: 6m\n",
      "507:\tlearn: 0.0568471\ttotal: 4m 23s\tremaining: 5m 59s\n",
      "508:\tlearn: 0.0568447\ttotal: 4m 24s\tremaining: 5m 58s\n",
      "509:\tlearn: 0.0568370\ttotal: 4m 24s\tremaining: 5m 58s\n",
      "510:\tlearn: 0.0568249\ttotal: 4m 25s\tremaining: 5m 57s\n",
      "511:\tlearn: 0.0568091\ttotal: 4m 25s\tremaining: 5m 57s\n",
      "512:\tlearn: 0.0567943\ttotal: 4m 26s\tremaining: 5m 56s\n",
      "513:\tlearn: 0.0567780\ttotal: 4m 26s\tremaining: 5m 55s\n",
      "514:\tlearn: 0.0567685\ttotal: 4m 27s\tremaining: 5m 55s\n",
      "515:\tlearn: 0.0567627\ttotal: 4m 27s\tremaining: 5m 54s\n",
      "516:\tlearn: 0.0567472\ttotal: 4m 28s\tremaining: 5m 54s\n",
      "517:\tlearn: 0.0567290\ttotal: 4m 28s\tremaining: 5m 53s\n",
      "518:\tlearn: 0.0567104\ttotal: 4m 29s\tremaining: 5m 53s\n",
      "519:\tlearn: 0.0566892\ttotal: 4m 29s\tremaining: 5m 52s\n",
      "520:\tlearn: 0.0566842\ttotal: 4m 30s\tremaining: 5m 52s\n",
      "521:\tlearn: 0.0566708\ttotal: 4m 30s\tremaining: 5m 51s\n",
      "522:\tlearn: 0.0566695\ttotal: 4m 31s\tremaining: 5m 51s\n",
      "523:\tlearn: 0.0566634\ttotal: 4m 31s\tremaining: 5m 50s\n",
      "524:\tlearn: 0.0566568\ttotal: 4m 32s\tremaining: 5m 50s\n",
      "525:\tlearn: 0.0566431\ttotal: 4m 32s\tremaining: 5m 49s\n",
      "526:\tlearn: 0.0566350\ttotal: 4m 33s\tremaining: 5m 48s\n",
      "527:\tlearn: 0.0566256\ttotal: 4m 33s\tremaining: 5m 48s\n",
      "528:\tlearn: 0.0566184\ttotal: 4m 34s\tremaining: 5m 47s\n",
      "529:\tlearn: 0.0566088\ttotal: 4m 34s\tremaining: 5m 47s\n",
      "530:\tlearn: 0.0565914\ttotal: 4m 35s\tremaining: 5m 46s\n",
      "531:\tlearn: 0.0565883\ttotal: 4m 35s\tremaining: 5m 45s\n",
      "532:\tlearn: 0.0565799\ttotal: 4m 35s\tremaining: 5m 45s\n",
      "533:\tlearn: 0.0565746\ttotal: 4m 36s\tremaining: 5m 44s\n",
      "534:\tlearn: 0.0565712\ttotal: 4m 36s\tremaining: 5m 44s\n",
      "535:\tlearn: 0.0565636\ttotal: 4m 37s\tremaining: 5m 43s\n",
      "536:\tlearn: 0.0565505\ttotal: 4m 37s\tremaining: 5m 42s\n",
      "537:\tlearn: 0.0565441\ttotal: 4m 38s\tremaining: 5m 42s\n",
      "538:\tlearn: 0.0565384\ttotal: 4m 38s\tremaining: 5m 41s\n",
      "539:\tlearn: 0.0565346\ttotal: 4m 39s\tremaining: 5m 41s\n",
      "540:\tlearn: 0.0565231\ttotal: 4m 39s\tremaining: 5m 40s\n",
      "541:\tlearn: 0.0565175\ttotal: 4m 39s\tremaining: 5m 39s\n",
      "542:\tlearn: 0.0565061\ttotal: 4m 40s\tremaining: 5m 39s\n",
      "543:\tlearn: 0.0565066\ttotal: 4m 40s\tremaining: 5m 38s\n",
      "544:\tlearn: 0.0564958\ttotal: 4m 41s\tremaining: 5m 38s\n",
      "545:\tlearn: 0.0564851\ttotal: 4m 41s\tremaining: 5m 37s\n",
      "546:\tlearn: 0.0564803\ttotal: 4m 42s\tremaining: 5m 36s\n",
      "547:\tlearn: 0.0564666\ttotal: 4m 42s\tremaining: 5m 36s\n",
      "548:\tlearn: 0.0564541\ttotal: 4m 43s\tremaining: 5m 35s\n",
      "549:\tlearn: 0.0564338\ttotal: 4m 43s\tremaining: 5m 35s\n",
      "550:\tlearn: 0.0564213\ttotal: 4m 44s\tremaining: 5m 34s\n",
      "551:\tlearn: 0.0564161\ttotal: 4m 44s\tremaining: 5m 33s\n",
      "552:\tlearn: 0.0564038\ttotal: 4m 44s\tremaining: 5m 33s\n",
      "553:\tlearn: 0.0563933\ttotal: 4m 45s\tremaining: 5m 32s\n",
      "554:\tlearn: 0.0563888\ttotal: 4m 45s\tremaining: 5m 32s\n",
      "555:\tlearn: 0.0563882\ttotal: 4m 46s\tremaining: 5m 31s\n",
      "556:\tlearn: 0.0563843\ttotal: 4m 46s\tremaining: 5m 30s\n",
      "557:\tlearn: 0.0563836\ttotal: 4m 47s\tremaining: 5m 30s\n",
      "558:\tlearn: 0.0563795\ttotal: 4m 47s\tremaining: 5m 29s\n",
      "559:\tlearn: 0.0563761\ttotal: 4m 48s\tremaining: 5m 29s\n",
      "560:\tlearn: 0.0563722\ttotal: 4m 48s\tremaining: 5m 28s\n",
      "561:\tlearn: 0.0563690\ttotal: 4m 48s\tremaining: 5m 27s\n",
      "562:\tlearn: 0.0563638\ttotal: 4m 49s\tremaining: 5m 27s\n",
      "563:\tlearn: 0.0563580\ttotal: 4m 49s\tremaining: 5m 26s\n",
      "564:\tlearn: 0.0563509\ttotal: 4m 50s\tremaining: 5m 26s\n",
      "565:\tlearn: 0.0563488\ttotal: 4m 50s\tremaining: 5m 25s\n",
      "566:\tlearn: 0.0563442\ttotal: 4m 51s\tremaining: 5m 25s\n",
      "567:\tlearn: 0.0563398\ttotal: 4m 51s\tremaining: 5m 24s\n",
      "568:\tlearn: 0.0563297\ttotal: 4m 52s\tremaining: 5m 23s\n",
      "569:\tlearn: 0.0563251\ttotal: 4m 52s\tremaining: 5m 23s\n",
      "570:\tlearn: 0.0563211\ttotal: 4m 52s\tremaining: 5m 22s\n",
      "571:\tlearn: 0.0563151\ttotal: 4m 53s\tremaining: 5m 22s\n",
      "572:\tlearn: 0.0563133\ttotal: 4m 53s\tremaining: 5m 21s\n",
      "573:\tlearn: 0.0563101\ttotal: 4m 54s\tremaining: 5m 20s\n",
      "574:\tlearn: 0.0563074\ttotal: 4m 54s\tremaining: 5m 20s\n",
      "575:\tlearn: 0.0563001\ttotal: 4m 55s\tremaining: 5m 19s\n",
      "576:\tlearn: 0.0562961\ttotal: 4m 55s\tremaining: 5m 19s\n",
      "577:\tlearn: 0.0562934\ttotal: 4m 56s\tremaining: 5m 18s\n",
      "578:\tlearn: 0.0562875\ttotal: 4m 56s\tremaining: 5m 18s\n",
      "579:\tlearn: 0.0562831\ttotal: 4m 56s\tremaining: 5m 17s\n",
      "580:\tlearn: 0.0562809\ttotal: 4m 57s\tremaining: 5m 16s\n",
      "581:\tlearn: 0.0562761\ttotal: 4m 57s\tremaining: 5m 16s\n",
      "582:\tlearn: 0.0562734\ttotal: 4m 58s\tremaining: 5m 15s\n",
      "583:\tlearn: 0.0562710\ttotal: 4m 58s\tremaining: 5m 15s\n",
      "584:\tlearn: 0.0562695\ttotal: 4m 59s\tremaining: 5m 14s\n",
      "585:\tlearn: 0.0562625\ttotal: 4m 59s\tremaining: 5m 13s\n",
      "586:\tlearn: 0.0562583\ttotal: 5m\tremaining: 5m 13s\n",
      "587:\tlearn: 0.0562545\ttotal: 5m\tremaining: 5m 12s\n",
      "588:\tlearn: 0.0562492\ttotal: 5m\tremaining: 5m 12s\n",
      "589:\tlearn: 0.0562464\ttotal: 5m 1s\tremaining: 5m 11s\n",
      "590:\tlearn: 0.0562423\ttotal: 5m 1s\tremaining: 5m 10s\n",
      "591:\tlearn: 0.0562392\ttotal: 5m 2s\tremaining: 5m 10s\n",
      "592:\tlearn: 0.0562362\ttotal: 5m 2s\tremaining: 5m 9s\n",
      "593:\tlearn: 0.0562330\ttotal: 5m 3s\tremaining: 5m 9s\n",
      "594:\tlearn: 0.0562316\ttotal: 5m 3s\tremaining: 5m 8s\n",
      "595:\tlearn: 0.0562299\ttotal: 5m 3s\tremaining: 5m 8s\n",
      "596:\tlearn: 0.0562250\ttotal: 5m 4s\tremaining: 5m 7s\n",
      "597:\tlearn: 0.0562228\ttotal: 5m 4s\tremaining: 5m 6s\n",
      "598:\tlearn: 0.0562199\ttotal: 5m 5s\tremaining: 5m 6s\n",
      "599:\tlearn: 0.0562163\ttotal: 5m 5s\tremaining: 5m 5s\n",
      "600:\tlearn: 0.0562127\ttotal: 5m 6s\tremaining: 5m 5s\n",
      "601:\tlearn: 0.0562101\ttotal: 5m 6s\tremaining: 5m 4s\n",
      "602:\tlearn: 0.0562063\ttotal: 5m 7s\tremaining: 5m 4s\n",
      "603:\tlearn: 0.0562030\ttotal: 5m 7s\tremaining: 5m 3s\n",
      "604:\tlearn: 0.0561998\ttotal: 5m 7s\tremaining: 5m 2s\n",
      "605:\tlearn: 0.0561995\ttotal: 5m 8s\tremaining: 5m 2s\n",
      "606:\tlearn: 0.0561937\ttotal: 5m 8s\tremaining: 5m 1s\n",
      "607:\tlearn: 0.0561925\ttotal: 5m 9s\tremaining: 5m 1s\n",
      "608:\tlearn: 0.0561893\ttotal: 5m 9s\tremaining: 5m\n",
      "609:\tlearn: 0.0561880\ttotal: 5m 10s\tremaining: 5m\n",
      "610:\tlearn: 0.0561839\ttotal: 5m 10s\tremaining: 4m 59s\n",
      "611:\tlearn: 0.0561812\ttotal: 5m 11s\tremaining: 4m 59s\n",
      "612:\tlearn: 0.0561810\ttotal: 5m 11s\tremaining: 4m 58s\n",
      "613:\tlearn: 0.0561789\ttotal: 5m 12s\tremaining: 4m 58s\n",
      "614:\tlearn: 0.0561770\ttotal: 5m 12s\tremaining: 4m 57s\n",
      "615:\tlearn: 0.0561741\ttotal: 5m 13s\tremaining: 4m 56s\n"
     ]
    },
    {
     "name": "stdout",
     "output_type": "stream",
     "text": [
      "616:\tlearn: 0.0561733\ttotal: 5m 13s\tremaining: 4m 56s\n",
      "617:\tlearn: 0.0561699\ttotal: 5m 14s\tremaining: 4m 56s\n",
      "618:\tlearn: 0.0561673\ttotal: 5m 15s\tremaining: 4m 55s\n",
      "619:\tlearn: 0.0561626\ttotal: 5m 15s\tremaining: 4m 55s\n",
      "620:\tlearn: 0.0561582\ttotal: 5m 16s\tremaining: 4m 54s\n",
      "621:\tlearn: 0.0561546\ttotal: 5m 16s\tremaining: 4m 54s\n",
      "622:\tlearn: 0.0561513\ttotal: 5m 17s\tremaining: 4m 53s\n",
      "623:\tlearn: 0.0561494\ttotal: 5m 17s\tremaining: 4m 53s\n",
      "624:\tlearn: 0.0561423\ttotal: 5m 17s\tremaining: 4m 52s\n",
      "625:\tlearn: 0.0561390\ttotal: 5m 18s\tremaining: 4m 51s\n",
      "626:\tlearn: 0.0561347\ttotal: 5m 18s\tremaining: 4m 51s\n",
      "627:\tlearn: 0.0561321\ttotal: 5m 19s\tremaining: 4m 50s\n",
      "628:\tlearn: 0.0561294\ttotal: 5m 19s\tremaining: 4m 50s\n",
      "629:\tlearn: 0.0561284\ttotal: 5m 20s\tremaining: 4m 49s\n",
      "630:\tlearn: 0.0561255\ttotal: 5m 20s\tremaining: 4m 49s\n",
      "631:\tlearn: 0.0561171\ttotal: 5m 21s\tremaining: 4m 48s\n",
      "632:\tlearn: 0.0561042\ttotal: 5m 21s\tremaining: 4m 47s\n",
      "633:\tlearn: 0.0560989\ttotal: 5m 21s\tremaining: 4m 47s\n",
      "634:\tlearn: 0.0560918\ttotal: 5m 22s\tremaining: 4m 46s\n",
      "635:\tlearn: 0.0560844\ttotal: 5m 22s\tremaining: 4m 46s\n",
      "636:\tlearn: 0.0560719\ttotal: 5m 23s\tremaining: 4m 45s\n",
      "637:\tlearn: 0.0560618\ttotal: 5m 23s\tremaining: 4m 45s\n",
      "638:\tlearn: 0.0560429\ttotal: 5m 24s\tremaining: 4m 44s\n",
      "639:\tlearn: 0.0560303\ttotal: 5m 24s\tremaining: 4m 44s\n",
      "640:\tlearn: 0.0560218\ttotal: 5m 25s\tremaining: 4m 43s\n",
      "641:\tlearn: 0.0560149\ttotal: 5m 25s\tremaining: 4m 42s\n",
      "642:\tlearn: 0.0560084\ttotal: 5m 26s\tremaining: 4m 42s\n",
      "643:\tlearn: 0.0559958\ttotal: 5m 26s\tremaining: 4m 41s\n",
      "644:\tlearn: 0.0559881\ttotal: 5m 26s\tremaining: 4m 41s\n",
      "645:\tlearn: 0.0559789\ttotal: 5m 27s\tremaining: 4m 40s\n",
      "646:\tlearn: 0.0559765\ttotal: 5m 28s\tremaining: 4m 40s\n",
      "647:\tlearn: 0.0559624\ttotal: 5m 28s\tremaining: 4m 39s\n",
      "648:\tlearn: 0.0559440\ttotal: 5m 29s\tremaining: 4m 39s\n",
      "649:\tlearn: 0.0559384\ttotal: 5m 29s\tremaining: 4m 39s\n",
      "650:\tlearn: 0.0559254\ttotal: 5m 30s\tremaining: 4m 38s\n",
      "651:\tlearn: 0.0559214\ttotal: 5m 30s\tremaining: 4m 38s\n",
      "652:\tlearn: 0.0559147\ttotal: 5m 31s\tremaining: 4m 37s\n",
      "653:\tlearn: 0.0559051\ttotal: 5m 31s\tremaining: 4m 37s\n",
      "654:\tlearn: 0.0558999\ttotal: 5m 32s\tremaining: 4m 36s\n",
      "655:\tlearn: 0.0558974\ttotal: 5m 33s\tremaining: 4m 36s\n",
      "656:\tlearn: 0.0558865\ttotal: 5m 33s\tremaining: 4m 35s\n",
      "657:\tlearn: 0.0558847\ttotal: 5m 34s\tremaining: 4m 35s\n",
      "658:\tlearn: 0.0558778\ttotal: 5m 34s\tremaining: 4m 34s\n",
      "659:\tlearn: 0.0558658\ttotal: 5m 35s\tremaining: 4m 34s\n",
      "660:\tlearn: 0.0558475\ttotal: 5m 35s\tremaining: 4m 33s\n",
      "661:\tlearn: 0.0558445\ttotal: 5m 36s\tremaining: 4m 33s\n",
      "662:\tlearn: 0.0558343\ttotal: 5m 36s\tremaining: 4m 32s\n",
      "663:\tlearn: 0.0558290\ttotal: 5m 37s\tremaining: 4m 32s\n",
      "664:\tlearn: 0.0558239\ttotal: 5m 37s\tremaining: 4m 31s\n",
      "665:\tlearn: 0.0558093\ttotal: 5m 38s\tremaining: 4m 31s\n",
      "666:\tlearn: 0.0558046\ttotal: 5m 39s\tremaining: 4m 30s\n",
      "667:\tlearn: 0.0557911\ttotal: 5m 39s\tremaining: 4m 30s\n",
      "668:\tlearn: 0.0557842\ttotal: 5m 40s\tremaining: 4m 29s\n",
      "669:\tlearn: 0.0557798\ttotal: 5m 40s\tremaining: 4m 29s\n",
      "670:\tlearn: 0.0557709\ttotal: 5m 41s\tremaining: 4m 28s\n",
      "671:\tlearn: 0.0557628\ttotal: 5m 41s\tremaining: 4m 28s\n",
      "672:\tlearn: 0.0557589\ttotal: 5m 42s\tremaining: 4m 28s\n",
      "673:\tlearn: 0.0557477\ttotal: 5m 43s\tremaining: 4m 28s\n",
      "674:\tlearn: 0.0557453\ttotal: 5m 43s\tremaining: 4m 27s\n",
      "675:\tlearn: 0.0557368\ttotal: 5m 44s\tremaining: 4m 27s\n",
      "676:\tlearn: 0.0557218\ttotal: 5m 44s\tremaining: 4m 26s\n",
      "677:\tlearn: 0.0557098\ttotal: 5m 45s\tremaining: 4m 26s\n",
      "678:\tlearn: 0.0557024\ttotal: 5m 46s\tremaining: 4m 25s\n",
      "679:\tlearn: 0.0556970\ttotal: 5m 46s\tremaining: 4m 25s\n",
      "680:\tlearn: 0.0556833\ttotal: 5m 47s\tremaining: 4m 24s\n",
      "681:\tlearn: 0.0556759\ttotal: 5m 48s\tremaining: 4m 24s\n",
      "682:\tlearn: 0.0556707\ttotal: 5m 48s\tremaining: 4m 23s\n",
      "683:\tlearn: 0.0556630\ttotal: 5m 49s\tremaining: 4m 23s\n",
      "684:\tlearn: 0.0556581\ttotal: 5m 50s\tremaining: 4m 23s\n",
      "685:\tlearn: 0.0556548\ttotal: 5m 50s\tremaining: 4m 22s\n",
      "686:\tlearn: 0.0556420\ttotal: 5m 51s\tremaining: 4m 22s\n",
      "687:\tlearn: 0.0556381\ttotal: 5m 51s\tremaining: 4m 21s\n",
      "688:\tlearn: 0.0556293\ttotal: 5m 52s\tremaining: 4m 21s\n",
      "689:\tlearn: 0.0556197\ttotal: 5m 53s\tremaining: 4m 20s\n",
      "690:\tlearn: 0.0556157\ttotal: 5m 53s\tremaining: 4m 20s\n",
      "691:\tlearn: 0.0556080\ttotal: 5m 54s\tremaining: 4m 20s\n",
      "692:\tlearn: 0.0556065\ttotal: 5m 54s\tremaining: 4m 19s\n",
      "693:\tlearn: 0.0556019\ttotal: 5m 55s\tremaining: 4m 19s\n",
      "694:\tlearn: 0.0555954\ttotal: 5m 55s\tremaining: 4m 18s\n",
      "695:\tlearn: 0.0555870\ttotal: 5m 56s\tremaining: 4m 18s\n",
      "696:\tlearn: 0.0555827\ttotal: 5m 56s\tremaining: 4m 17s\n",
      "697:\tlearn: 0.0555768\ttotal: 5m 57s\tremaining: 4m 16s\n",
      "698:\tlearn: 0.0555683\ttotal: 5m 57s\tremaining: 4m 16s\n",
      "699:\tlearn: 0.0555642\ttotal: 5m 58s\tremaining: 4m 15s\n",
      "700:\tlearn: 0.0555561\ttotal: 5m 58s\tremaining: 4m 15s\n",
      "701:\tlearn: 0.0555527\ttotal: 5m 59s\tremaining: 4m 14s\n",
      "702:\tlearn: 0.0555469\ttotal: 5m 59s\tremaining: 4m 14s\n",
      "703:\tlearn: 0.0555437\ttotal: 5m 59s\tremaining: 4m 13s\n",
      "704:\tlearn: 0.0555376\ttotal: 6m\tremaining: 4m 13s\n",
      "705:\tlearn: 0.0555342\ttotal: 6m\tremaining: 4m 12s\n",
      "706:\tlearn: 0.0555232\ttotal: 6m 1s\tremaining: 4m 11s\n",
      "707:\tlearn: 0.0555170\ttotal: 6m 1s\tremaining: 4m 11s\n",
      "708:\tlearn: 0.0555127\ttotal: 6m 2s\tremaining: 4m 10s\n",
      "709:\tlearn: 0.0555089\ttotal: 6m 2s\tremaining: 4m 10s\n",
      "710:\tlearn: 0.0554903\ttotal: 6m 3s\tremaining: 4m 9s\n",
      "711:\tlearn: 0.0554838\ttotal: 6m 3s\tremaining: 4m 9s\n",
      "712:\tlearn: 0.0554788\ttotal: 6m 4s\tremaining: 4m 8s\n",
      "713:\tlearn: 0.0554707\ttotal: 6m 4s\tremaining: 4m 8s\n",
      "714:\tlearn: 0.0554630\ttotal: 6m 4s\tremaining: 4m 7s\n",
      "715:\tlearn: 0.0554568\ttotal: 6m 5s\tremaining: 4m 7s\n",
      "716:\tlearn: 0.0554425\ttotal: 6m 5s\tremaining: 4m 6s\n",
      "717:\tlearn: 0.0554352\ttotal: 6m 6s\tremaining: 4m 5s\n",
      "718:\tlearn: 0.0554232\ttotal: 6m 6s\tremaining: 4m 5s\n",
      "719:\tlearn: 0.0554184\ttotal: 6m 7s\tremaining: 4m 4s\n",
      "720:\tlearn: 0.0554091\ttotal: 6m 7s\tremaining: 4m 4s\n",
      "721:\tlearn: 0.0554044\ttotal: 6m 8s\tremaining: 4m 3s\n",
      "722:\tlearn: 0.0553955\ttotal: 6m 8s\tremaining: 4m 3s\n",
      "723:\tlearn: 0.0553881\ttotal: 6m 9s\tremaining: 4m 2s\n",
      "724:\tlearn: 0.0553835\ttotal: 6m 9s\tremaining: 4m 2s\n",
      "725:\tlearn: 0.0553796\ttotal: 6m 9s\tremaining: 4m 1s\n",
      "726:\tlearn: 0.0553738\ttotal: 6m 10s\tremaining: 4m\n",
      "727:\tlearn: 0.0553723\ttotal: 6m 10s\tremaining: 4m\n",
      "728:\tlearn: 0.0553695\ttotal: 6m 11s\tremaining: 3m 59s\n",
      "729:\tlearn: 0.0553560\ttotal: 6m 11s\tremaining: 3m 59s\n",
      "730:\tlearn: 0.0553522\ttotal: 6m 12s\tremaining: 3m 58s\n",
      "731:\tlearn: 0.0553397\ttotal: 6m 12s\tremaining: 3m 58s\n",
      "732:\tlearn: 0.0553356\ttotal: 6m 13s\tremaining: 3m 57s\n",
      "733:\tlearn: 0.0553294\ttotal: 6m 13s\tremaining: 3m 57s\n",
      "734:\tlearn: 0.0553277\ttotal: 6m 14s\tremaining: 3m 56s\n",
      "735:\tlearn: 0.0553229\ttotal: 6m 14s\tremaining: 3m 56s\n",
      "736:\tlearn: 0.0553146\ttotal: 6m 14s\tremaining: 3m 55s\n",
      "737:\tlearn: 0.0553079\ttotal: 6m 15s\tremaining: 3m 54s\n",
      "738:\tlearn: 0.0552956\ttotal: 6m 15s\tremaining: 3m 54s\n",
      "739:\tlearn: 0.0552919\ttotal: 6m 16s\tremaining: 3m 53s\n",
      "740:\tlearn: 0.0552845\ttotal: 6m 16s\tremaining: 3m 53s\n",
      "741:\tlearn: 0.0552825\ttotal: 6m 17s\tremaining: 3m 52s\n",
      "742:\tlearn: 0.0552742\ttotal: 6m 17s\tremaining: 3m 52s\n",
      "743:\tlearn: 0.0552710\ttotal: 6m 18s\tremaining: 3m 51s\n",
      "744:\tlearn: 0.0552627\ttotal: 6m 18s\tremaining: 3m 51s\n",
      "745:\tlearn: 0.0552558\ttotal: 6m 18s\tremaining: 3m 50s\n",
      "746:\tlearn: 0.0552539\ttotal: 6m 19s\tremaining: 3m 50s\n",
      "747:\tlearn: 0.0552490\ttotal: 6m 20s\tremaining: 3m 49s\n",
      "748:\tlearn: 0.0552477\ttotal: 6m 20s\tremaining: 3m 49s\n",
      "749:\tlearn: 0.0552399\ttotal: 6m 21s\tremaining: 3m 48s\n",
      "750:\tlearn: 0.0552365\ttotal: 6m 21s\tremaining: 3m 48s\n",
      "751:\tlearn: 0.0552344\ttotal: 6m 22s\tremaining: 3m 47s\n",
      "752:\tlearn: 0.0552295\ttotal: 6m 22s\tremaining: 3m 47s\n",
      "753:\tlearn: 0.0552187\ttotal: 6m 23s\tremaining: 3m 46s\n",
      "754:\tlearn: 0.0552140\ttotal: 6m 23s\tremaining: 3m 46s\n",
      "755:\tlearn: 0.0552004\ttotal: 6m 24s\tremaining: 3m 45s\n",
      "756:\tlearn: 0.0551948\ttotal: 6m 24s\tremaining: 3m 45s\n",
      "757:\tlearn: 0.0551808\ttotal: 6m 25s\tremaining: 3m 44s\n",
      "758:\tlearn: 0.0551749\ttotal: 6m 25s\tremaining: 3m 44s\n",
      "759:\tlearn: 0.0551740\ttotal: 6m 26s\tremaining: 3m 43s\n",
      "760:\tlearn: 0.0551640\ttotal: 6m 26s\tremaining: 3m 43s\n",
      "761:\tlearn: 0.0551603\ttotal: 6m 27s\tremaining: 3m 42s\n",
      "762:\tlearn: 0.0551542\ttotal: 6m 27s\tremaining: 3m 42s\n",
      "763:\tlearn: 0.0551406\ttotal: 6m 28s\tremaining: 3m 41s\n",
      "764:\tlearn: 0.0551380\ttotal: 6m 28s\tremaining: 3m 40s\n",
      "765:\tlearn: 0.0551349\ttotal: 6m 29s\tremaining: 3m 40s\n",
      "766:\tlearn: 0.0551265\ttotal: 6m 29s\tremaining: 3m 40s\n",
      "767:\tlearn: 0.0551187\ttotal: 6m 30s\tremaining: 3m 39s\n",
      "768:\tlearn: 0.0551081\ttotal: 6m 30s\tremaining: 3m 38s\n"
     ]
    },
    {
     "name": "stdout",
     "output_type": "stream",
     "text": [
      "769:\tlearn: 0.0551056\ttotal: 6m 31s\tremaining: 3m 38s\n",
      "770:\tlearn: 0.0550990\ttotal: 6m 31s\tremaining: 3m 37s\n",
      "771:\tlearn: 0.0550949\ttotal: 6m 32s\tremaining: 3m 37s\n",
      "772:\tlearn: 0.0550841\ttotal: 6m 32s\tremaining: 3m 36s\n",
      "773:\tlearn: 0.0550813\ttotal: 6m 33s\tremaining: 3m 36s\n",
      "774:\tlearn: 0.0550766\ttotal: 6m 33s\tremaining: 3m 35s\n",
      "775:\tlearn: 0.0550712\ttotal: 6m 34s\tremaining: 3m 35s\n",
      "776:\tlearn: 0.0550693\ttotal: 6m 34s\tremaining: 3m 34s\n",
      "777:\tlearn: 0.0550643\ttotal: 6m 35s\tremaining: 3m 34s\n",
      "778:\tlearn: 0.0550574\ttotal: 6m 35s\tremaining: 3m 33s\n",
      "779:\tlearn: 0.0550480\ttotal: 6m 36s\tremaining: 3m 33s\n",
      "780:\tlearn: 0.0550420\ttotal: 6m 36s\tremaining: 3m 32s\n",
      "781:\tlearn: 0.0550384\ttotal: 6m 37s\tremaining: 3m 32s\n",
      "782:\tlearn: 0.0550368\ttotal: 6m 37s\tremaining: 3m 31s\n",
      "783:\tlearn: 0.0550359\ttotal: 6m 38s\tremaining: 3m 31s\n",
      "784:\tlearn: 0.0550301\ttotal: 6m 38s\tremaining: 3m 30s\n",
      "785:\tlearn: 0.0550218\ttotal: 6m 39s\tremaining: 3m 30s\n",
      "786:\tlearn: 0.0550179\ttotal: 6m 39s\tremaining: 3m 29s\n",
      "787:\tlearn: 0.0550145\ttotal: 6m 39s\tremaining: 3m 29s\n",
      "788:\tlearn: 0.0550088\ttotal: 6m 40s\tremaining: 3m 28s\n",
      "789:\tlearn: 0.0550034\ttotal: 6m 41s\tremaining: 3m 28s\n",
      "790:\tlearn: 0.0549992\ttotal: 6m 41s\tremaining: 3m 27s\n",
      "791:\tlearn: 0.0549967\ttotal: 6m 42s\tremaining: 3m 27s\n",
      "792:\tlearn: 0.0549876\ttotal: 6m 42s\tremaining: 3m 26s\n",
      "793:\tlearn: 0.0549804\ttotal: 6m 43s\tremaining: 3m 26s\n",
      "794:\tlearn: 0.0549764\ttotal: 6m 43s\tremaining: 3m 25s\n",
      "795:\tlearn: 0.0549646\ttotal: 6m 44s\tremaining: 3m 25s\n",
      "796:\tlearn: 0.0549627\ttotal: 6m 44s\tremaining: 3m 24s\n",
      "797:\tlearn: 0.0549566\ttotal: 6m 45s\tremaining: 3m 24s\n",
      "798:\tlearn: 0.0549426\ttotal: 6m 45s\tremaining: 3m 23s\n",
      "799:\tlearn: 0.0549387\ttotal: 6m 46s\tremaining: 3m 23s\n",
      "800:\tlearn: 0.0549268\ttotal: 6m 47s\tremaining: 3m 22s\n",
      "801:\tlearn: 0.0549221\ttotal: 6m 47s\tremaining: 3m 22s\n",
      "802:\tlearn: 0.0549149\ttotal: 6m 48s\tremaining: 3m 21s\n",
      "803:\tlearn: 0.0549129\ttotal: 6m 48s\tremaining: 3m 21s\n",
      "804:\tlearn: 0.0549099\ttotal: 6m 49s\tremaining: 3m 20s\n",
      "805:\tlearn: 0.0549046\ttotal: 6m 49s\tremaining: 3m 20s\n",
      "806:\tlearn: 0.0548955\ttotal: 6m 50s\tremaining: 3m 19s\n",
      "807:\tlearn: 0.0548917\ttotal: 6m 50s\tremaining: 3m 19s\n",
      "808:\tlearn: 0.0548864\ttotal: 6m 51s\tremaining: 3m 18s\n",
      "809:\tlearn: 0.0548795\ttotal: 6m 51s\tremaining: 3m 18s\n",
      "810:\tlearn: 0.0548768\ttotal: 6m 52s\tremaining: 3m 17s\n",
      "811:\tlearn: 0.0548708\ttotal: 6m 52s\tremaining: 3m 17s\n",
      "812:\tlearn: 0.0548605\ttotal: 6m 53s\tremaining: 3m 16s\n",
      "813:\tlearn: 0.0548538\ttotal: 6m 53s\tremaining: 3m 16s\n",
      "814:\tlearn: 0.0548442\ttotal: 6m 54s\tremaining: 3m 15s\n",
      "815:\tlearn: 0.0548375\ttotal: 6m 54s\tremaining: 3m 15s\n",
      "816:\tlearn: 0.0548308\ttotal: 6m 55s\tremaining: 3m 14s\n",
      "817:\tlearn: 0.0548202\ttotal: 6m 55s\tremaining: 3m 14s\n",
      "818:\tlearn: 0.0548157\ttotal: 6m 56s\tremaining: 3m 13s\n",
      "819:\tlearn: 0.0548060\ttotal: 6m 56s\tremaining: 3m 13s\n",
      "820:\tlearn: 0.0547984\ttotal: 6m 57s\tremaining: 3m 12s\n",
      "821:\tlearn: 0.0547941\ttotal: 6m 57s\tremaining: 3m 12s\n",
      "822:\tlearn: 0.0547926\ttotal: 6m 58s\tremaining: 3m 11s\n",
      "823:\tlearn: 0.0547902\ttotal: 6m 58s\tremaining: 3m 11s\n",
      "824:\tlearn: 0.0547897\ttotal: 6m 59s\tremaining: 3m 10s\n",
      "825:\tlearn: 0.0547859\ttotal: 6m 59s\tremaining: 3m 9s\n",
      "826:\tlearn: 0.0547858\ttotal: 7m\tremaining: 3m 9s\n",
      "827:\tlearn: 0.0547837\ttotal: 7m\tremaining: 3m 8s\n",
      "828:\tlearn: 0.0547735\ttotal: 7m 1s\tremaining: 3m 8s\n",
      "829:\tlearn: 0.0547632\ttotal: 7m 1s\tremaining: 3m 7s\n",
      "830:\tlearn: 0.0547539\ttotal: 7m 2s\tremaining: 3m 7s\n",
      "831:\tlearn: 0.0547377\ttotal: 7m 2s\tremaining: 3m 6s\n",
      "832:\tlearn: 0.0547323\ttotal: 7m 3s\tremaining: 3m 6s\n",
      "833:\tlearn: 0.0547309\ttotal: 7m 3s\tremaining: 3m 5s\n",
      "834:\tlearn: 0.0547266\ttotal: 7m 4s\tremaining: 3m 5s\n",
      "835:\tlearn: 0.0547195\ttotal: 7m 4s\tremaining: 3m 4s\n",
      "836:\tlearn: 0.0547061\ttotal: 7m 5s\tremaining: 3m 4s\n",
      "837:\tlearn: 0.0546975\ttotal: 7m 5s\tremaining: 3m 3s\n",
      "838:\tlearn: 0.0546921\ttotal: 7m 6s\tremaining: 3m 3s\n",
      "839:\tlearn: 0.0546877\ttotal: 7m 7s\tremaining: 3m 3s\n",
      "840:\tlearn: 0.0546834\ttotal: 7m 7s\tremaining: 3m 2s\n",
      "841:\tlearn: 0.0546812\ttotal: 7m 8s\tremaining: 3m 2s\n",
      "842:\tlearn: 0.0546785\ttotal: 7m 9s\tremaining: 3m 1s\n",
      "843:\tlearn: 0.0546706\ttotal: 7m 9s\tremaining: 3m 1s\n",
      "844:\tlearn: 0.0546614\ttotal: 7m 10s\tremaining: 3m\n",
      "845:\tlearn: 0.0546586\ttotal: 7m 11s\tremaining: 3m\n",
      "846:\tlearn: 0.0546529\ttotal: 7m 11s\tremaining: 2m 59s\n",
      "847:\tlearn: 0.0546500\ttotal: 7m 12s\tremaining: 2m 59s\n",
      "848:\tlearn: 0.0546418\ttotal: 7m 12s\tremaining: 2m 58s\n",
      "849:\tlearn: 0.0546398\ttotal: 7m 13s\tremaining: 2m 58s\n",
      "850:\tlearn: 0.0546379\ttotal: 7m 13s\tremaining: 2m 57s\n",
      "851:\tlearn: 0.0546342\ttotal: 7m 14s\tremaining: 2m 57s\n",
      "852:\tlearn: 0.0546277\ttotal: 7m 15s\tremaining: 2m 57s\n",
      "853:\tlearn: 0.0546252\ttotal: 7m 15s\tremaining: 2m 56s\n",
      "854:\tlearn: 0.0546202\ttotal: 7m 16s\tremaining: 2m 56s\n",
      "855:\tlearn: 0.0546167\ttotal: 7m 16s\tremaining: 2m 55s\n",
      "856:\tlearn: 0.0546125\ttotal: 7m 17s\tremaining: 2m 54s\n",
      "857:\tlearn: 0.0546106\ttotal: 7m 17s\tremaining: 2m 54s\n",
      "858:\tlearn: 0.0546080\ttotal: 7m 18s\tremaining: 2m 53s\n",
      "859:\tlearn: 0.0546013\ttotal: 7m 18s\tremaining: 2m 53s\n",
      "860:\tlearn: 0.0545918\ttotal: 7m 19s\tremaining: 2m 52s\n",
      "861:\tlearn: 0.0545884\ttotal: 7m 19s\tremaining: 2m 52s\n",
      "862:\tlearn: 0.0545768\ttotal: 7m 20s\tremaining: 2m 51s\n",
      "863:\tlearn: 0.0545738\ttotal: 7m 20s\tremaining: 2m 51s\n",
      "864:\tlearn: 0.0545639\ttotal: 7m 21s\tremaining: 2m 50s\n",
      "865:\tlearn: 0.0545610\ttotal: 7m 21s\tremaining: 2m 50s\n",
      "866:\tlearn: 0.0545571\ttotal: 7m 22s\tremaining: 2m 49s\n",
      "867:\tlearn: 0.0545544\ttotal: 7m 22s\tremaining: 2m 49s\n",
      "868:\tlearn: 0.0545515\ttotal: 7m 23s\tremaining: 2m 48s\n",
      "869:\tlearn: 0.0545461\ttotal: 7m 23s\tremaining: 2m 48s\n",
      "870:\tlearn: 0.0545426\ttotal: 7m 24s\tremaining: 2m 47s\n",
      "871:\tlearn: 0.0545289\ttotal: 7m 25s\tremaining: 2m 47s\n",
      "872:\tlearn: 0.0545184\ttotal: 7m 25s\tremaining: 2m 47s\n",
      "873:\tlearn: 0.0545129\ttotal: 7m 26s\tremaining: 2m 46s\n",
      "874:\tlearn: 0.0545079\ttotal: 7m 27s\tremaining: 2m 46s\n",
      "875:\tlearn: 0.0545045\ttotal: 7m 27s\tremaining: 2m 45s\n",
      "876:\tlearn: 0.0545034\ttotal: 7m 28s\tremaining: 2m 45s\n",
      "877:\tlearn: 0.0545011\ttotal: 7m 28s\tremaining: 2m 44s\n",
      "878:\tlearn: 0.0544992\ttotal: 7m 29s\tremaining: 2m 43s\n",
      "879:\tlearn: 0.0544955\ttotal: 7m 29s\tremaining: 2m 43s\n",
      "880:\tlearn: 0.0544950\ttotal: 7m 30s\tremaining: 2m 42s\n",
      "881:\tlearn: 0.0544909\ttotal: 7m 30s\tremaining: 2m 42s\n",
      "882:\tlearn: 0.0544883\ttotal: 7m 31s\tremaining: 2m 41s\n",
      "883:\tlearn: 0.0544820\ttotal: 7m 31s\tremaining: 2m 41s\n",
      "884:\tlearn: 0.0544793\ttotal: 7m 32s\tremaining: 2m 40s\n",
      "885:\tlearn: 0.0544794\ttotal: 7m 32s\tremaining: 2m 40s\n",
      "886:\tlearn: 0.0544774\ttotal: 7m 33s\tremaining: 2m 39s\n",
      "887:\tlearn: 0.0544743\ttotal: 7m 33s\tremaining: 2m 39s\n",
      "888:\tlearn: 0.0544729\ttotal: 7m 34s\tremaining: 2m 38s\n",
      "889:\tlearn: 0.0544716\ttotal: 7m 34s\tremaining: 2m 38s\n",
      "890:\tlearn: 0.0544659\ttotal: 7m 35s\tremaining: 2m 37s\n",
      "891:\tlearn: 0.0544591\ttotal: 7m 35s\tremaining: 2m 37s\n",
      "892:\tlearn: 0.0544556\ttotal: 7m 35s\tremaining: 2m 36s\n",
      "893:\tlearn: 0.0544527\ttotal: 7m 36s\tremaining: 2m 36s\n",
      "894:\tlearn: 0.0544502\ttotal: 7m 36s\tremaining: 2m 35s\n",
      "895:\tlearn: 0.0544477\ttotal: 7m 37s\tremaining: 2m 35s\n",
      "896:\tlearn: 0.0544449\ttotal: 7m 37s\tremaining: 2m 34s\n",
      "897:\tlearn: 0.0544420\ttotal: 7m 38s\tremaining: 2m 34s\n",
      "898:\tlearn: 0.0544385\ttotal: 7m 38s\tremaining: 2m 33s\n",
      "899:\tlearn: 0.0544316\ttotal: 7m 39s\tremaining: 2m 33s\n",
      "900:\tlearn: 0.0544274\ttotal: 7m 39s\tremaining: 2m 32s\n",
      "901:\tlearn: 0.0544249\ttotal: 7m 40s\tremaining: 2m 32s\n",
      "902:\tlearn: 0.0544214\ttotal: 7m 40s\tremaining: 2m 31s\n",
      "903:\tlearn: 0.0544140\ttotal: 7m 41s\tremaining: 2m 31s\n",
      "904:\tlearn: 0.0544091\ttotal: 7m 41s\tremaining: 2m 30s\n",
      "905:\tlearn: 0.0544078\ttotal: 7m 42s\tremaining: 2m 30s\n",
      "906:\tlearn: 0.0544047\ttotal: 7m 42s\tremaining: 2m 29s\n",
      "907:\tlearn: 0.0544007\ttotal: 7m 43s\tremaining: 2m 29s\n",
      "908:\tlearn: 0.0543919\ttotal: 7m 44s\tremaining: 2m 28s\n",
      "909:\tlearn: 0.0543863\ttotal: 7m 44s\tremaining: 2m 28s\n",
      "910:\tlearn: 0.0543792\ttotal: 7m 45s\tremaining: 2m 27s\n",
      "911:\tlearn: 0.0543708\ttotal: 7m 45s\tremaining: 2m 27s\n",
      "912:\tlearn: 0.0543605\ttotal: 7m 46s\tremaining: 2m 26s\n",
      "913:\tlearn: 0.0543539\ttotal: 7m 46s\tremaining: 2m 26s\n",
      "914:\tlearn: 0.0543511\ttotal: 7m 47s\tremaining: 2m 25s\n",
      "915:\tlearn: 0.0543441\ttotal: 7m 47s\tremaining: 2m 25s\n",
      "916:\tlearn: 0.0543413\ttotal: 7m 48s\tremaining: 2m 24s\n",
      "917:\tlearn: 0.0543373\ttotal: 7m 48s\tremaining: 2m 24s\n",
      "918:\tlearn: 0.0543352\ttotal: 7m 49s\tremaining: 2m 23s\n",
      "919:\tlearn: 0.0543238\ttotal: 7m 50s\tremaining: 2m 23s\n",
      "920:\tlearn: 0.0543217\ttotal: 7m 50s\tremaining: 2m 22s\n",
      "921:\tlearn: 0.0543184\ttotal: 7m 51s\tremaining: 2m 22s\n"
     ]
    },
    {
     "name": "stdout",
     "output_type": "stream",
     "text": [
      "922:\tlearn: 0.0543140\ttotal: 7m 51s\tremaining: 2m 21s\n",
      "923:\tlearn: 0.0543041\ttotal: 7m 52s\tremaining: 2m 21s\n",
      "924:\tlearn: 0.0542958\ttotal: 7m 52s\tremaining: 2m 20s\n",
      "925:\tlearn: 0.0542927\ttotal: 7m 53s\tremaining: 2m 19s\n",
      "926:\tlearn: 0.0542884\ttotal: 7m 53s\tremaining: 2m 19s\n",
      "927:\tlearn: 0.0542790\ttotal: 7m 54s\tremaining: 2m 19s\n",
      "928:\tlearn: 0.0542770\ttotal: 7m 54s\tremaining: 2m 18s\n",
      "929:\tlearn: 0.0542723\ttotal: 7m 55s\tremaining: 2m 18s\n",
      "930:\tlearn: 0.0542657\ttotal: 7m 55s\tremaining: 2m 17s\n",
      "931:\tlearn: 0.0542635\ttotal: 7m 56s\tremaining: 2m 17s\n",
      "932:\tlearn: 0.0542559\ttotal: 7m 56s\tremaining: 2m 16s\n",
      "933:\tlearn: 0.0542537\ttotal: 7m 57s\tremaining: 2m 15s\n",
      "934:\tlearn: 0.0542438\ttotal: 7m 57s\tremaining: 2m 15s\n",
      "935:\tlearn: 0.0542389\ttotal: 7m 58s\tremaining: 2m 14s\n",
      "936:\tlearn: 0.0542323\ttotal: 7m 58s\tremaining: 2m 14s\n",
      "937:\tlearn: 0.0542269\ttotal: 7m 59s\tremaining: 2m 13s\n",
      "938:\tlearn: 0.0542218\ttotal: 7m 59s\tremaining: 2m 13s\n",
      "939:\tlearn: 0.0542193\ttotal: 8m\tremaining: 2m 12s\n",
      "940:\tlearn: 0.0542108\ttotal: 8m\tremaining: 2m 12s\n",
      "941:\tlearn: 0.0542079\ttotal: 8m 1s\tremaining: 2m 11s\n",
      "942:\tlearn: 0.0542027\ttotal: 8m 1s\tremaining: 2m 11s\n",
      "943:\tlearn: 0.0541996\ttotal: 8m 2s\tremaining: 2m 10s\n",
      "944:\tlearn: 0.0541939\ttotal: 8m 2s\tremaining: 2m 10s\n",
      "945:\tlearn: 0.0541878\ttotal: 8m 3s\tremaining: 2m 9s\n",
      "946:\tlearn: 0.0541831\ttotal: 8m 3s\tremaining: 2m 9s\n",
      "947:\tlearn: 0.0541768\ttotal: 8m 4s\tremaining: 2m 8s\n",
      "948:\tlearn: 0.0541722\ttotal: 8m 4s\tremaining: 2m 8s\n",
      "949:\tlearn: 0.0541680\ttotal: 8m 5s\tremaining: 2m 7s\n",
      "950:\tlearn: 0.0541562\ttotal: 8m 6s\tremaining: 2m 7s\n",
      "951:\tlearn: 0.0541496\ttotal: 8m 6s\tremaining: 2m 6s\n",
      "952:\tlearn: 0.0541461\ttotal: 8m 6s\tremaining: 2m 6s\n",
      "953:\tlearn: 0.0541348\ttotal: 8m 7s\tremaining: 2m 5s\n",
      "954:\tlearn: 0.0541326\ttotal: 8m 8s\tremaining: 2m 5s\n",
      "955:\tlearn: 0.0541324\ttotal: 8m 8s\tremaining: 2m 4s\n",
      "956:\tlearn: 0.0541296\ttotal: 8m 8s\tremaining: 2m 4s\n",
      "957:\tlearn: 0.0541261\ttotal: 8m 9s\tremaining: 2m 3s\n",
      "958:\tlearn: 0.0541247\ttotal: 8m 9s\tremaining: 2m 3s\n",
      "959:\tlearn: 0.0541215\ttotal: 8m 10s\tremaining: 2m 2s\n",
      "960:\tlearn: 0.0541110\ttotal: 8m 10s\tremaining: 2m 2s\n",
      "961:\tlearn: 0.0541099\ttotal: 8m 11s\tremaining: 2m 1s\n",
      "962:\tlearn: 0.0541036\ttotal: 8m 11s\tremaining: 2m 1s\n",
      "963:\tlearn: 0.0540984\ttotal: 8m 12s\tremaining: 2m\n",
      "964:\tlearn: 0.0540960\ttotal: 8m 12s\tremaining: 1m 59s\n",
      "965:\tlearn: 0.0540927\ttotal: 8m 13s\tremaining: 1m 59s\n",
      "966:\tlearn: 0.0540846\ttotal: 8m 13s\tremaining: 1m 58s\n",
      "967:\tlearn: 0.0540813\ttotal: 8m 14s\tremaining: 1m 58s\n",
      "968:\tlearn: 0.0540775\ttotal: 8m 14s\tremaining: 1m 57s\n",
      "969:\tlearn: 0.0540772\ttotal: 8m 14s\tremaining: 1m 57s\n",
      "970:\tlearn: 0.0540711\ttotal: 8m 15s\tremaining: 1m 56s\n",
      "971:\tlearn: 0.0540664\ttotal: 8m 16s\tremaining: 1m 56s\n",
      "972:\tlearn: 0.0540654\ttotal: 8m 16s\tremaining: 1m 55s\n",
      "973:\tlearn: 0.0540614\ttotal: 8m 16s\tremaining: 1m 55s\n",
      "974:\tlearn: 0.0540581\ttotal: 8m 17s\tremaining: 1m 54s\n",
      "975:\tlearn: 0.0540467\ttotal: 8m 17s\tremaining: 1m 54s\n",
      "976:\tlearn: 0.0540437\ttotal: 8m 18s\tremaining: 1m 53s\n",
      "977:\tlearn: 0.0540365\ttotal: 8m 18s\tremaining: 1m 53s\n",
      "978:\tlearn: 0.0540322\ttotal: 8m 19s\tremaining: 1m 52s\n",
      "979:\tlearn: 0.0540295\ttotal: 8m 19s\tremaining: 1m 52s\n",
      "980:\tlearn: 0.0540262\ttotal: 8m 20s\tremaining: 1m 51s\n",
      "981:\tlearn: 0.0540214\ttotal: 8m 20s\tremaining: 1m 51s\n",
      "982:\tlearn: 0.0540159\ttotal: 8m 21s\tremaining: 1m 50s\n",
      "983:\tlearn: 0.0540101\ttotal: 8m 21s\tremaining: 1m 50s\n",
      "984:\tlearn: 0.0540025\ttotal: 8m 22s\tremaining: 1m 49s\n",
      "985:\tlearn: 0.0539983\ttotal: 8m 22s\tremaining: 1m 49s\n",
      "986:\tlearn: 0.0539960\ttotal: 8m 23s\tremaining: 1m 48s\n",
      "987:\tlearn: 0.0539864\ttotal: 8m 23s\tremaining: 1m 48s\n",
      "988:\tlearn: 0.0539774\ttotal: 8m 24s\tremaining: 1m 47s\n",
      "989:\tlearn: 0.0539763\ttotal: 8m 24s\tremaining: 1m 47s\n",
      "990:\tlearn: 0.0539754\ttotal: 8m 25s\tremaining: 1m 46s\n",
      "991:\tlearn: 0.0539731\ttotal: 8m 25s\tremaining: 1m 46s\n",
      "992:\tlearn: 0.0539697\ttotal: 8m 26s\tremaining: 1m 45s\n",
      "993:\tlearn: 0.0539666\ttotal: 8m 26s\tremaining: 1m 45s\n",
      "994:\tlearn: 0.0539646\ttotal: 8m 27s\tremaining: 1m 44s\n",
      "995:\tlearn: 0.0539601\ttotal: 8m 27s\tremaining: 1m 44s\n",
      "996:\tlearn: 0.0539504\ttotal: 8m 28s\tremaining: 1m 43s\n",
      "997:\tlearn: 0.0539464\ttotal: 8m 28s\tremaining: 1m 43s\n",
      "998:\tlearn: 0.0539386\ttotal: 8m 29s\tremaining: 1m 42s\n",
      "999:\tlearn: 0.0539351\ttotal: 8m 29s\tremaining: 1m 41s\n",
      "1000:\tlearn: 0.0539328\ttotal: 8m 30s\tremaining: 1m 41s\n",
      "1001:\tlearn: 0.0539280\ttotal: 8m 31s\tremaining: 1m 40s\n",
      "1002:\tlearn: 0.0539205\ttotal: 8m 31s\tremaining: 1m 40s\n",
      "1003:\tlearn: 0.0539124\ttotal: 8m 32s\tremaining: 1m 39s\n",
      "1004:\tlearn: 0.0539073\ttotal: 8m 32s\tremaining: 1m 39s\n",
      "1005:\tlearn: 0.0539023\ttotal: 8m 33s\tremaining: 1m 38s\n",
      "1006:\tlearn: 0.0538982\ttotal: 8m 33s\tremaining: 1m 38s\n",
      "1007:\tlearn: 0.0538906\ttotal: 8m 33s\tremaining: 1m 37s\n",
      "1008:\tlearn: 0.0538807\ttotal: 8m 34s\tremaining: 1m 37s\n",
      "1009:\tlearn: 0.0538787\ttotal: 8m 34s\tremaining: 1m 36s\n",
      "1010:\tlearn: 0.0538726\ttotal: 8m 35s\tremaining: 1m 36s\n",
      "1011:\tlearn: 0.0538707\ttotal: 8m 35s\tremaining: 1m 35s\n",
      "1012:\tlearn: 0.0538679\ttotal: 8m 36s\tremaining: 1m 35s\n",
      "1013:\tlearn: 0.0538618\ttotal: 8m 36s\tremaining: 1m 34s\n",
      "1014:\tlearn: 0.0538588\ttotal: 8m 37s\tremaining: 1m 34s\n",
      "1015:\tlearn: 0.0538571\ttotal: 8m 37s\tremaining: 1m 33s\n",
      "1016:\tlearn: 0.0538517\ttotal: 8m 38s\tremaining: 1m 33s\n",
      "1017:\tlearn: 0.0538457\ttotal: 8m 38s\tremaining: 1m 32s\n",
      "1018:\tlearn: 0.0538440\ttotal: 8m 39s\tremaining: 1m 32s\n",
      "1019:\tlearn: 0.0538377\ttotal: 8m 39s\tremaining: 1m 31s\n",
      "1020:\tlearn: 0.0538298\ttotal: 8m 40s\tremaining: 1m 31s\n",
      "1021:\tlearn: 0.0538283\ttotal: 8m 40s\tremaining: 1m 30s\n",
      "1022:\tlearn: 0.0538271\ttotal: 8m 41s\tremaining: 1m 30s\n",
      "1023:\tlearn: 0.0538242\ttotal: 8m 41s\tremaining: 1m 29s\n",
      "1024:\tlearn: 0.0538156\ttotal: 8m 42s\tremaining: 1m 29s\n",
      "1025:\tlearn: 0.0538116\ttotal: 8m 42s\tremaining: 1m 28s\n",
      "1026:\tlearn: 0.0538095\ttotal: 8m 43s\tremaining: 1m 28s\n",
      "1027:\tlearn: 0.0538007\ttotal: 8m 43s\tremaining: 1m 27s\n",
      "1028:\tlearn: 0.0537942\ttotal: 8m 44s\tremaining: 1m 27s\n",
      "1029:\tlearn: 0.0537890\ttotal: 8m 45s\tremaining: 1m 26s\n",
      "1030:\tlearn: 0.0537850\ttotal: 8m 45s\tremaining: 1m 26s\n",
      "1031:\tlearn: 0.0537813\ttotal: 8m 46s\tremaining: 1m 25s\n",
      "1032:\tlearn: 0.0537721\ttotal: 8m 46s\tremaining: 1m 25s\n",
      "1033:\tlearn: 0.0537691\ttotal: 8m 47s\tremaining: 1m 24s\n",
      "1034:\tlearn: 0.0537683\ttotal: 8m 47s\tremaining: 1m 24s\n",
      "1035:\tlearn: 0.0537647\ttotal: 8m 48s\tremaining: 1m 23s\n",
      "1036:\tlearn: 0.0537591\ttotal: 8m 48s\tremaining: 1m 23s\n",
      "1037:\tlearn: 0.0537523\ttotal: 8m 49s\tremaining: 1m 22s\n",
      "1038:\tlearn: 0.0537447\ttotal: 8m 50s\tremaining: 1m 22s\n",
      "1039:\tlearn: 0.0537408\ttotal: 8m 50s\tremaining: 1m 21s\n",
      "1040:\tlearn: 0.0537336\ttotal: 8m 51s\tremaining: 1m 21s\n",
      "1041:\tlearn: 0.0537285\ttotal: 8m 51s\tremaining: 1m 20s\n",
      "1042:\tlearn: 0.0537264\ttotal: 8m 52s\tremaining: 1m 20s\n",
      "1043:\tlearn: 0.0537206\ttotal: 8m 53s\tremaining: 1m 19s\n",
      "1044:\tlearn: 0.0537195\ttotal: 8m 53s\tremaining: 1m 19s\n",
      "1045:\tlearn: 0.0537174\ttotal: 8m 54s\tremaining: 1m 18s\n",
      "1046:\tlearn: 0.0537135\ttotal: 8m 54s\tremaining: 1m 18s\n",
      "1047:\tlearn: 0.0537096\ttotal: 8m 55s\tremaining: 1m 17s\n",
      "1048:\tlearn: 0.0537042\ttotal: 8m 55s\tremaining: 1m 17s\n",
      "1049:\tlearn: 0.0537020\ttotal: 8m 56s\tremaining: 1m 16s\n",
      "1050:\tlearn: 0.0536920\ttotal: 8m 56s\tremaining: 1m 16s\n",
      "1051:\tlearn: 0.0536897\ttotal: 8m 57s\tremaining: 1m 15s\n",
      "1052:\tlearn: 0.0536846\ttotal: 8m 57s\tremaining: 1m 15s\n",
      "1053:\tlearn: 0.0536804\ttotal: 8m 58s\tremaining: 1m 14s\n",
      "1054:\tlearn: 0.0536776\ttotal: 8m 58s\tremaining: 1m 14s\n",
      "1055:\tlearn: 0.0536753\ttotal: 8m 59s\tremaining: 1m 13s\n",
      "1056:\tlearn: 0.0536691\ttotal: 8m 59s\tremaining: 1m 13s\n",
      "1057:\tlearn: 0.0536606\ttotal: 9m\tremaining: 1m 12s\n",
      "1058:\tlearn: 0.0536576\ttotal: 9m\tremaining: 1m 12s\n",
      "1059:\tlearn: 0.0536512\ttotal: 9m 1s\tremaining: 1m 11s\n",
      "1060:\tlearn: 0.0536505\ttotal: 9m 2s\tremaining: 1m 11s\n",
      "1061:\tlearn: 0.0536460\ttotal: 9m 2s\tremaining: 1m 10s\n",
      "1062:\tlearn: 0.0536392\ttotal: 9m 3s\tremaining: 1m 9s\n",
      "1063:\tlearn: 0.0536365\ttotal: 9m 3s\tremaining: 1m 9s\n",
      "1064:\tlearn: 0.0536359\ttotal: 9m 4s\tremaining: 1m 8s\n",
      "1065:\tlearn: 0.0536318\ttotal: 9m 4s\tremaining: 1m 8s\n",
      "1066:\tlearn: 0.0536277\ttotal: 9m 5s\tremaining: 1m 7s\n",
      "1067:\tlearn: 0.0536222\ttotal: 9m 5s\tremaining: 1m 7s\n",
      "1068:\tlearn: 0.0536190\ttotal: 9m 6s\tremaining: 1m 6s\n",
      "1069:\tlearn: 0.0536145\ttotal: 9m 7s\tremaining: 1m 6s\n",
      "1070:\tlearn: 0.0536103\ttotal: 9m 7s\tremaining: 1m 5s\n",
      "1071:\tlearn: 0.0536052\ttotal: 9m 8s\tremaining: 1m 5s\n",
      "1072:\tlearn: 0.0536015\ttotal: 9m 8s\tremaining: 1m 4s\n",
      "1073:\tlearn: 0.0535990\ttotal: 9m 9s\tremaining: 1m 4s\n"
     ]
    },
    {
     "name": "stdout",
     "output_type": "stream",
     "text": [
      "1074:\tlearn: 0.0535972\ttotal: 9m 10s\tremaining: 1m 3s\n",
      "1075:\tlearn: 0.0535948\ttotal: 9m 10s\tremaining: 1m 3s\n",
      "1076:\tlearn: 0.0535939\ttotal: 9m 11s\tremaining: 1m 2s\n",
      "1077:\tlearn: 0.0535923\ttotal: 9m 11s\tremaining: 1m 2s\n",
      "1078:\tlearn: 0.0535852\ttotal: 9m 12s\tremaining: 1m 1s\n",
      "1079:\tlearn: 0.0535828\ttotal: 9m 12s\tremaining: 1m 1s\n",
      "1080:\tlearn: 0.0535815\ttotal: 9m 13s\tremaining: 1m\n",
      "1081:\tlearn: 0.0535751\ttotal: 9m 13s\tremaining: 1m\n",
      "1082:\tlearn: 0.0535743\ttotal: 9m 14s\tremaining: 59.9s\n",
      "1083:\tlearn: 0.0535728\ttotal: 9m 14s\tremaining: 59.4s\n",
      "1084:\tlearn: 0.0535720\ttotal: 9m 15s\tremaining: 58.9s\n",
      "1085:\tlearn: 0.0535675\ttotal: 9m 15s\tremaining: 58.3s\n",
      "1086:\tlearn: 0.0535649\ttotal: 9m 16s\tremaining: 57.8s\n",
      "1087:\tlearn: 0.0535631\ttotal: 9m 16s\tremaining: 57.3s\n",
      "1088:\tlearn: 0.0535612\ttotal: 9m 17s\tremaining: 56.8s\n",
      "1089:\tlearn: 0.0535577\ttotal: 9m 17s\tremaining: 56.3s\n",
      "1090:\tlearn: 0.0535559\ttotal: 9m 18s\tremaining: 55.7s\n",
      "1091:\tlearn: 0.0535528\ttotal: 9m 18s\tremaining: 55.2s\n",
      "1092:\tlearn: 0.0535519\ttotal: 9m 18s\tremaining: 54.7s\n",
      "1093:\tlearn: 0.0535481\ttotal: 9m 19s\tremaining: 54.2s\n",
      "1094:\tlearn: 0.0535430\ttotal: 9m 19s\tremaining: 53.7s\n",
      "1095:\tlearn: 0.0535393\ttotal: 9m 20s\tremaining: 53.2s\n",
      "1096:\tlearn: 0.0535374\ttotal: 9m 20s\tremaining: 52.6s\n",
      "1097:\tlearn: 0.0535324\ttotal: 9m 21s\tremaining: 52.1s\n",
      "1098:\tlearn: 0.0535289\ttotal: 9m 21s\tremaining: 51.6s\n",
      "1099:\tlearn: 0.0535235\ttotal: 9m 22s\tremaining: 51.1s\n",
      "1100:\tlearn: 0.0535210\ttotal: 9m 22s\tremaining: 50.6s\n",
      "1101:\tlearn: 0.0535145\ttotal: 9m 23s\tremaining: 50.1s\n",
      "1102:\tlearn: 0.0535082\ttotal: 9m 23s\tremaining: 49.6s\n",
      "1103:\tlearn: 0.0535055\ttotal: 9m 23s\tremaining: 49s\n",
      "1104:\tlearn: 0.0535039\ttotal: 9m 24s\tremaining: 48.5s\n",
      "1105:\tlearn: 0.0534993\ttotal: 9m 24s\tremaining: 48s\n",
      "1106:\tlearn: 0.0534944\ttotal: 9m 25s\tremaining: 47.5s\n",
      "1107:\tlearn: 0.0534919\ttotal: 9m 26s\tremaining: 47s\n",
      "1108:\tlearn: 0.0534879\ttotal: 9m 26s\tremaining: 46.5s\n",
      "1109:\tlearn: 0.0534856\ttotal: 9m 27s\tremaining: 46s\n",
      "1110:\tlearn: 0.0534809\ttotal: 9m 27s\tremaining: 45.5s\n",
      "1111:\tlearn: 0.0534754\ttotal: 9m 28s\tremaining: 45s\n",
      "1112:\tlearn: 0.0534729\ttotal: 9m 28s\tremaining: 44.5s\n",
      "1113:\tlearn: 0.0534677\ttotal: 9m 29s\tremaining: 44s\n",
      "1114:\tlearn: 0.0534642\ttotal: 9m 29s\tremaining: 43.4s\n",
      "1115:\tlearn: 0.0534595\ttotal: 9m 30s\tremaining: 42.9s\n",
      "1116:\tlearn: 0.0534584\ttotal: 9m 31s\tremaining: 42.4s\n",
      "1117:\tlearn: 0.0534552\ttotal: 9m 31s\tremaining: 41.9s\n",
      "1118:\tlearn: 0.0534484\ttotal: 9m 31s\tremaining: 41.4s\n",
      "1119:\tlearn: 0.0534447\ttotal: 9m 32s\tremaining: 40.9s\n",
      "1120:\tlearn: 0.0534437\ttotal: 9m 32s\tremaining: 40.4s\n",
      "1121:\tlearn: 0.0534367\ttotal: 9m 33s\tremaining: 39.9s\n",
      "1122:\tlearn: 0.0534344\ttotal: 9m 33s\tremaining: 39.3s\n",
      "1123:\tlearn: 0.0534307\ttotal: 9m 34s\tremaining: 38.8s\n",
      "1124:\tlearn: 0.0534266\ttotal: 9m 34s\tremaining: 38.3s\n",
      "1125:\tlearn: 0.0534225\ttotal: 9m 35s\tremaining: 37.8s\n",
      "1126:\tlearn: 0.0534193\ttotal: 9m 35s\tremaining: 37.3s\n",
      "1127:\tlearn: 0.0534159\ttotal: 9m 36s\tremaining: 36.8s\n",
      "1128:\tlearn: 0.0534141\ttotal: 9m 36s\tremaining: 36.3s\n",
      "1129:\tlearn: 0.0534082\ttotal: 9m 37s\tremaining: 35.8s\n",
      "1130:\tlearn: 0.0534034\ttotal: 9m 37s\tremaining: 35.2s\n",
      "1131:\tlearn: 0.0534018\ttotal: 9m 38s\tremaining: 34.7s\n",
      "1132:\tlearn: 0.0533972\ttotal: 9m 38s\tremaining: 34.2s\n",
      "1133:\tlearn: 0.0533931\ttotal: 9m 39s\tremaining: 33.7s\n",
      "1134:\tlearn: 0.0533887\ttotal: 9m 39s\tremaining: 33.2s\n",
      "1135:\tlearn: 0.0533842\ttotal: 9m 39s\tremaining: 32.7s\n",
      "1136:\tlearn: 0.0533816\ttotal: 9m 40s\tremaining: 32.2s\n",
      "1137:\tlearn: 0.0533769\ttotal: 9m 40s\tremaining: 31.6s\n",
      "1138:\tlearn: 0.0533735\ttotal: 9m 41s\tremaining: 31.1s\n",
      "1139:\tlearn: 0.0533666\ttotal: 9m 41s\tremaining: 30.6s\n",
      "1140:\tlearn: 0.0533655\ttotal: 9m 42s\tremaining: 30.1s\n",
      "1141:\tlearn: 0.0533608\ttotal: 9m 42s\tremaining: 29.6s\n",
      "1142:\tlearn: 0.0533591\ttotal: 9m 43s\tremaining: 29.1s\n",
      "1143:\tlearn: 0.0533569\ttotal: 9m 43s\tremaining: 28.6s\n",
      "1144:\tlearn: 0.0533526\ttotal: 9m 44s\tremaining: 28.1s\n",
      "1145:\tlearn: 0.0533516\ttotal: 9m 44s\tremaining: 27.6s\n",
      "1146:\tlearn: 0.0533497\ttotal: 9m 45s\tremaining: 27.1s\n",
      "1147:\tlearn: 0.0533462\ttotal: 9m 46s\tremaining: 26.5s\n",
      "1148:\tlearn: 0.0533445\ttotal: 9m 46s\tremaining: 26s\n",
      "1149:\tlearn: 0.0533385\ttotal: 9m 47s\tremaining: 25.5s\n",
      "1150:\tlearn: 0.0533379\ttotal: 9m 47s\tremaining: 25s\n",
      "1151:\tlearn: 0.0533326\ttotal: 9m 48s\tremaining: 24.5s\n",
      "1152:\tlearn: 0.0533313\ttotal: 9m 48s\tremaining: 24s\n",
      "1153:\tlearn: 0.0533238\ttotal: 9m 49s\tremaining: 23.5s\n",
      "1154:\tlearn: 0.0533198\ttotal: 9m 50s\tremaining: 23s\n",
      "1155:\tlearn: 0.0533183\ttotal: 9m 50s\tremaining: 22.5s\n",
      "1156:\tlearn: 0.0533138\ttotal: 9m 51s\tremaining: 22s\n",
      "1157:\tlearn: 0.0533010\ttotal: 9m 51s\tremaining: 21.5s\n",
      "1158:\tlearn: 0.0532960\ttotal: 9m 52s\tremaining: 20.9s\n",
      "1159:\tlearn: 0.0532898\ttotal: 9m 52s\tremaining: 20.4s\n",
      "1160:\tlearn: 0.0532856\ttotal: 9m 53s\tremaining: 19.9s\n",
      "1161:\tlearn: 0.0532844\ttotal: 9m 54s\tremaining: 19.4s\n",
      "1162:\tlearn: 0.0532810\ttotal: 9m 54s\tremaining: 18.9s\n",
      "1163:\tlearn: 0.0532781\ttotal: 9m 55s\tremaining: 18.4s\n",
      "1164:\tlearn: 0.0532764\ttotal: 9m 56s\tremaining: 17.9s\n",
      "1165:\tlearn: 0.0532737\ttotal: 9m 56s\tremaining: 17.4s\n",
      "1166:\tlearn: 0.0532683\ttotal: 9m 57s\tremaining: 16.9s\n",
      "1167:\tlearn: 0.0532623\ttotal: 9m 57s\tremaining: 16.4s\n",
      "1168:\tlearn: 0.0532588\ttotal: 9m 58s\tremaining: 15.9s\n",
      "1169:\tlearn: 0.0532545\ttotal: 9m 58s\tremaining: 15.3s\n",
      "1170:\tlearn: 0.0532516\ttotal: 9m 59s\tremaining: 14.8s\n",
      "1171:\tlearn: 0.0532488\ttotal: 9m 59s\tremaining: 14.3s\n",
      "1172:\tlearn: 0.0532455\ttotal: 10m\tremaining: 13.8s\n",
      "1173:\tlearn: 0.0532435\ttotal: 10m\tremaining: 13.3s\n",
      "1174:\tlearn: 0.0532429\ttotal: 10m 1s\tremaining: 12.8s\n",
      "1175:\tlearn: 0.0532410\ttotal: 10m 1s\tremaining: 12.3s\n",
      "1176:\tlearn: 0.0532350\ttotal: 10m 2s\tremaining: 11.8s\n",
      "1177:\tlearn: 0.0532329\ttotal: 10m 2s\tremaining: 11.3s\n",
      "1178:\tlearn: 0.0532295\ttotal: 10m 3s\tremaining: 10.7s\n",
      "1179:\tlearn: 0.0532240\ttotal: 10m 3s\tremaining: 10.2s\n",
      "1180:\tlearn: 0.0532215\ttotal: 10m 4s\tremaining: 9.72s\n",
      "1181:\tlearn: 0.0532181\ttotal: 10m 4s\tremaining: 9.21s\n",
      "1182:\tlearn: 0.0532164\ttotal: 10m 5s\tremaining: 8.7s\n",
      "1183:\tlearn: 0.0532101\ttotal: 10m 5s\tremaining: 8.19s\n",
      "1184:\tlearn: 0.0532015\ttotal: 10m 6s\tremaining: 7.67s\n",
      "1185:\tlearn: 0.0531962\ttotal: 10m 6s\tremaining: 7.16s\n",
      "1186:\tlearn: 0.0531958\ttotal: 10m 7s\tremaining: 6.65s\n",
      "1187:\tlearn: 0.0531941\ttotal: 10m 7s\tremaining: 6.14s\n",
      "1188:\tlearn: 0.0531912\ttotal: 10m 8s\tremaining: 5.63s\n",
      "1189:\tlearn: 0.0531881\ttotal: 10m 8s\tremaining: 5.11s\n",
      "1190:\tlearn: 0.0531854\ttotal: 10m 9s\tremaining: 4.6s\n",
      "1191:\tlearn: 0.0531846\ttotal: 10m 9s\tremaining: 4.09s\n",
      "1192:\tlearn: 0.0531801\ttotal: 10m 9s\tremaining: 3.58s\n",
      "1193:\tlearn: 0.0531788\ttotal: 10m 10s\tremaining: 3.07s\n",
      "1194:\tlearn: 0.0531776\ttotal: 10m 10s\tremaining: 2.56s\n",
      "1195:\tlearn: 0.0531732\ttotal: 10m 11s\tremaining: 2.04s\n",
      "1196:\tlearn: 0.0531689\ttotal: 10m 11s\tremaining: 1.53s\n",
      "1197:\tlearn: 0.0531653\ttotal: 10m 12s\tremaining: 1.02s\n",
      "1198:\tlearn: 0.0531637\ttotal: 10m 12s\tremaining: 511ms\n",
      "1199:\tlearn: 0.0531593\ttotal: 10m 13s\tremaining: 0us\n"
     ]
    },
    {
     "data": {
      "text/plain": [
       "<catboost.core.CatBoostRegressor at 0x1d9f2dfd0>"
      ]
     },
     "execution_count": 137,
     "metadata": {},
     "output_type": "execute_result"
    }
   ],
   "source": [
    "model = catboost.CatBoostRegressor(iterations=1200, depth=10, learning_rate=0.05, loss_function='MAE')\n",
    "model.fit(X_train, y_train)"
   ]
  },
  {
   "cell_type": "code",
   "execution_count": 138,
   "metadata": {},
   "outputs": [
    {
     "name": "stdout",
     "output_type": "stream",
     "text": [
      "MAE:  0.058681543471845586\n"
     ]
    }
   ],
   "source": [
    "predictions = model.predict(X_test)\n",
    "mae = mean_absolute_error(y_test, predictions)\n",
    "print \"MAE: \", mae"
   ]
  },
  {
   "cell_type": "code",
   "execution_count": 267,
   "metadata": {},
   "outputs": [
    {
     "data": {
      "image/png": "[encoded data removed]",
      "text/plain": [
       "<Figure size 432x288 with 1 Axes>"
      ]
     },
     "metadata": {
      "needs_background": "light"
     },
     "output_type": "display_data"
    }
   ],
   "source": [
    "xVal = model.get_feature_importance()\n",
    "yVal = [k for k in rel_cols]\n",
    "comVal = list(zip(xVal, yVal))\n",
    "comVal = sorted(comVal, key = lambda k: k[0])\n",
    "xVal, yVal = zip(*comVal)\n",
    "\n",
    "pt = plt.barh(yVal, xVal)"
   ]
  },
  {
   "cell_type": "code",
   "execution_count": null,
   "metadata": {},
   "outputs": [],
   "source": []
  }
 ],
 "metadata": {
  "kernelspec": {
   "display_name": "Python 3",
   "language": "python",
   "name": "python3"
  },
  "language_info": {
   "codemirror_mode": {
    "name": "ipython",
    "version": 2
   },
   "file_extension": ".py",
   "mimetype": "text/x-python",
   "name": "python",
   "nbconvert_exporter": "python",
   "pygments_lexer": "ipython2",
   "version": "2.7.15"
  }
 },
 "nbformat": 4,
 "nbformat_minor": 2
}
