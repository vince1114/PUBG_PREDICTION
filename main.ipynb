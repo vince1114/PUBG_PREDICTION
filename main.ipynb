{
 "cells": [
  {
   "cell_type": "code",
   "execution_count": 1,
   "metadata": {},
   "outputs": [],
   "source": [
    "import matplotlib.pyplot as plt\n",
    "import pandas as pd\n",
    "import numpy as np\n",
    "from collections import Counter\n",
    "from collections import defaultdict"
   ]
  },
  {
   "cell_type": "code",
   "execution_count": null,
   "metadata": {},
   "outputs": [],
   "source": [
    "df_train = pd.read_csv('train_V2.csv', encoding='utf-8')\n",
    "train_data = df_train.to_dict('records')\n",
    "df_train.head(5)"
   ]
  },
  {
   "cell_type": "markdown",
   "metadata": {},
   "source": [
    "## EDA"
   ]
  },
  {
   "cell_type": "markdown",
   "metadata": {},
   "source": [
    "Group data by matchId."
   ]
  },
  {
   "cell_type": "code",
   "execution_count": null,
   "metadata": {},
   "outputs": [],
   "source": [
    "match_idx_dict = defaultdict(lambda: [])\n",
    "\n",
    "for i in range(len(train_data)):\n",
    "    match_idx_dict[train_data[i]['matchId']].append(i) "
   ]
  },
  {
   "cell_type": "markdown",
   "metadata": {},
   "source": [
    "Match statistics."
   ]
  },
  {
   "cell_type": "code",
   "execution_count": null,
   "metadata": {},
   "outputs": [],
   "source": [
    "num_players_dict = defaultdict(int)\n",
    "for indices in match_idx_dict.values():\n",
    "    num_players_dict[len(indices)] += 1\n",
    "    \n",
    "plt.plot(num_players_dict.keys(), num_players_dict.values(), 'ro')"
   ]
  },
  {
   "cell_type": "markdown",
   "metadata": {},
   "source": [
    "Take relevant columns to explore."
   ]
  },
  {
   "cell_type": "code",
   "execution_count": null,
   "metadata": {},
   "outputs": [],
   "source": [
    "print(df_train.columns)"
   ]
  },
  {
   "cell_type": "code",
   "execution_count": null,
   "metadata": {},
   "outputs": [],
   "source": [
    "rel_cols = set(df_train.columns)\n",
    "rel_cols.remove('Id')\n",
    "rel_cols.remove('groupId')\n",
    "rel_cols.remove('matchId')\n",
    "rel_cols.remove('matchType')\n",
    "rel_cols.remove('roadKills')\n",
    "rel_cols.remove('weaponsAcquired')"
   ]
  },
  {
   "cell_type": "code",
   "execution_count": null,
   "metadata": {},
   "outputs": [],
   "source": [
    "df_train_minimized = pd.DataFrame()\n",
    "for c in rel_cols:\n",
    "    df_train_minimized[c] = df_train[c]"
   ]
  },
  {
   "cell_type": "code",
   "execution_count": null,
   "metadata": {},
   "outputs": [],
   "source": [
    "corr = df_train_minimized.corr()\n",
    "fig = plt.figure()\n",
    "ax = fig.add_subplot(111)\n",
    "cax = ax.matshow(corr,cmap='coolwarm', vmin=-1, vmax=1)\n",
    "fig.colorbar(cax)\n",
    "ticks = np.arange(0, len(df_train_minimized.columns),1)\n",
    "ax.set_xticks(ticks)\n",
    "plt.xticks(rotation=90)\n",
    "ax.set_yticks(ticks)\n",
    "ax.set_xticklabels(df_train_minimized.columns)\n",
    "ax.set_yticklabels(df_train_minimized.columns)\n",
    "plt.show()"
   ]
  },
  {
   "cell_type": "code",
   "execution_count": null,
   "metadata": {},
   "outputs": [],
   "source": [
    "for c in rel_cols:\n",
    "    df_train[c].hist()\n",
    "    plt.title(c)\n",
    "    plt.show()"
   ]
  },
  {
   "cell_type": "markdown",
   "metadata": {},
   "source": [
    "Reduce range of x values so we can look at the data in more details."
   ]
  },
  {
   "cell_type": "code",
   "execution_count": null,
   "metadata": {},
   "outputs": [],
   "source": [
    "df_train_set = pd.read_csv('train_set.csv', encoding='utf-8')\n",
    "train_set = df_train_set.to_dict('records')\n",
    "\n",
    "df_test_set = pd.read_csv('test_set.csv', encoding='utf-8')\n",
    "test_set = df_test_set.to_dict('records')\n",
    "\n",
    "df_valid_set = pd.read_csv('valid_set.csv', encoding='utf-8')\n",
    "valid_set = df_valid_set.to_dict('records')"
   ]
  },
  {
   "cell_type": "code",
   "execution_count": null,
   "metadata": {},
   "outputs": [],
   "source": [
    "def fill_missing(data_set):\n",
    "    for i in range(len(data_set)):\n",
    "        if (np.isnan(data_set[i]['winPlacePerc'])):\n",
    "            data_set[i]['winPlacePerc'] = 0\n",
    "            \n",
    "fill_missing(train_set)\n",
    "fill_missing(test_set)\n",
    "fill_missing(valid_set)"
   ]
  },
  {
   "cell_type": "code",
   "execution_count": null,
   "metadata": {},
   "outputs": [],
   "source": [
    "train_set_pd = pd.DataFrame(train_set)\n",
    "test_set_pd = pd.DataFrame(test_set)\n",
    "valid_set_pd = pd.DataFrame(valid_set)"
   ]
  },
  {
   "cell_type": "code",
   "execution_count": null,
   "metadata": {},
   "outputs": [],
   "source": [
    "train_set_pd.to_csv('train_set.csv')\n",
    "test_set_pd.to_csv('test_set.csv')\n",
    "valid_set_pd.to_csv('valid_set.csv')"
   ]
  },
  {
   "cell_type": "code",
   "execution_count": null,
   "metadata": {},
   "outputs": [],
   "source": []
  }
 ],
 "metadata": {
  "kernelspec": {
   "display_name": "Python 3",
   "language": "python",
   "name": "python3"
  },
  "language_info": {
   "codemirror_mode": {
    "name": "ipython",
    "version": 3
   },
   "file_extension": ".py",
   "mimetype": "text/x-python",
   "name": "python",
   "nbconvert_exporter": "python",
   "pygments_lexer": "ipython3",
   "version": "3.7.0"
  }
 },
 "nbformat": 4,
 "nbformat_minor": 2
}
