{
 "cells": [
  {
   "cell_type": "code",
   "execution_count": 3,
   "metadata": {},
   "outputs": [],
   "source": [
    "import pandas as pd \n",
    "import numpy as np\n",
    "import matplotlib.pyplot as plt\n",
    "from collections import defaultdict\n",
    "import datetime\n",
    "import random"
   ]
  },
  {
   "cell_type": "code",
   "execution_count": 4,
   "metadata": {},
   "outputs": [],
   "source": [
    "train_df = pd.read_csv(\"train_V2.csv\")\n",
    "train_data = train_df.to_dict(\"records\")"
   ]
  },
  {
   "cell_type": "code",
   "execution_count": 5,
   "metadata": {},
   "outputs": [
    {
     "name": "stdout",
     "output_type": "stream",
     "text": [
      "2018-12-01 18:59:24.296758\n",
      "2018-12-01 19:00:18.173869\n"
     ]
    }
   ],
   "source": [
    "print(datetime.datetime.now())\n",
    "\n",
    "team_data = defaultdict(list)\n",
    "match_data = defaultdict(list)\n",
    "for d in train_data:\n",
    "    matchType = d['matchType']\n",
    "    matchID = d['matchId']\n",
    "    team_data[matchType].append(d)\n",
    "    match_data[matchID].append(d)\n",
    "\n",
    "print(datetime.datetime.now())"
   ]
  },
  {
   "cell_type": "code",
   "execution_count": 19,
   "metadata": {},
   "outputs": [],
   "source": [
    "# Return subset of data with size +/- 100,\n",
    "# starting from index zero\n",
    "def getSubSet(data, ratio, match_data):\n",
    "    cutoff = int( len(data) * ratio )\n",
    "    subset = []\n",
    "    key_set = []\n",
    "    keys = match_data.keys()\n",
    "    random.shuffle(keys) # Randomize match\n",
    "    i = 0\n",
    "    while(len(subset) < cutoff):\n",
    "        key = keys[i]\n",
    "        key_set.append(key)\n",
    "        subset += match_data[key]\n",
    "        i += 1\n",
    "    return {\n",
    "        'subset': subset,\n",
    "        'keys': key_set\n",
    "    }\n"
   ]
  },
  {
   "cell_type": "code",
   "execution_count": null,
   "metadata": {},
   "outputs": [
    {
     "name": "stdout",
     "output_type": "stream",
     "text": [
      "2018-12-01 19:23:29.543072\n",
      "('sub_match_data ', datetime.datetime(2018, 12, 1, 19, 23, 31, 75483))\n"
     ]
    }
   ],
   "source": [
    "print(datetime.datetime.now())\n",
    "\n",
    "overall_ratio = 1\n",
    "\n",
    "sub_dict = getSubSet(train_data, overall_ratio, match_data)\n",
    "sub_data = sub_dict['subset']\n",
    "sub_keys = list( set( sub_dict['keys'] ) )\n",
    "\n",
    "cutoff = len(sub_keys) / 2\n",
    "test_key = sub_keys[:cutoff]\n",
    "train_key = sub_keys[cutoff:]\n",
    "\n",
    "train_set = []\n",
    "test_set = []\n",
    "\n",
    "print(\"sub_match_data \", datetime.datetime.now())\n",
    "sub_match_data = defaultdict(list)\n",
    "for d in sub_data:\n",
    "    matchID = d['matchId']\n",
    "    sub_match_data[matchID].append(d)\n",
    "\n",
    "print(\"train_key\", datetime.datetime.now())\n",
    "for k in train_key:\n",
    "    train_set += sub_match_data[k]\n",
    "\n",
    "print(\"test_key\", datetime.datetime.now())\n",
    "for k in test_key:\n",
    "    test_set += sub_match_data[k]\n",
    "\n",
    "print len(train_set)\n",
    "print train_set[0]\n",
    "\n",
    "print len(test_set)\n",
    "print test_set[0]\n",
    "\n",
    "print(datetime.datetime.now())"
   ]
  },
  {
   "cell_type": "code",
   "execution_count": null,
   "metadata": {},
   "outputs": [],
   "source": []
  }
 ],
 "metadata": {
  "kernelspec": {
   "display_name": "Python 2",
   "language": "python",
   "name": "python2"
  },
  "language_info": {
   "codemirror_mode": {
    "name": "ipython",
    "version": 2
   },
   "file_extension": ".py",
   "mimetype": "text/x-python",
   "name": "python",
   "nbconvert_exporter": "python",
   "pygments_lexer": "ipython2",
   "version": "2.7.15"
  }
 },
 "nbformat": 4,
 "nbformat_minor": 2
}
